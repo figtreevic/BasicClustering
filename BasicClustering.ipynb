{
 "cells": [
  {
   "cell_type": "markdown",
   "id": "3931f272-8b11-4356-a8f1-51f1b04b6e82",
   "metadata": {},
   "source": [
    "# <font color='red'>Importing </font>\n",
    "<hr style='border: 2px solid red;'>"
   ]
  },
  {
   "cell_type": "code",
   "execution_count": 2,
   "id": "2a018b9b-9ab4-441c-8ce2-5be4f0bb2641",
   "metadata": {},
   "outputs": [],
   "source": [
    "import pandas as pd"
   ]
  },
  {
   "cell_type": "code",
   "execution_count": 7,
   "id": "a6dc236e-33be-4b6e-b77a-c09a13b7ab29",
   "metadata": {},
   "outputs": [],
   "source": [
    "import plotly.graph_objects as go"
   ]
  },
  {
   "cell_type": "code",
   "execution_count": 8,
   "id": "c2bde20e-1cc8-49ed-854e-c7b7fb4f4d6d",
   "metadata": {},
   "outputs": [],
   "source": [
    "import numpy as np "
   ]
  },
  {
   "cell_type": "code",
   "execution_count": 3,
   "id": "a56e87bc-cb5e-442c-89fd-dfa41c76a4ec",
   "metadata": {},
   "outputs": [],
   "source": [
    "data = pd.read_csv('./Wine.csv', sep =',') "
   ]
  },
  {
   "cell_type": "code",
   "execution_count": 5,
   "id": "b8fd3d2a-4aa0-406d-b12f-1f8a61e96813",
   "metadata": {},
   "outputs": [
    {
     "data": {
      "text/html": [
       "<div>\n",
       "<style scoped>\n",
       "    .dataframe tbody tr th:only-of-type {\n",
       "        vertical-align: middle;\n",
       "    }\n",
       "\n",
       "    .dataframe tbody tr th {\n",
       "        vertical-align: top;\n",
       "    }\n",
       "\n",
       "    .dataframe thead th {\n",
       "        text-align: right;\n",
       "    }\n",
       "</style>\n",
       "<table border=\"1\" class=\"dataframe\">\n",
       "  <thead>\n",
       "    <tr style=\"text-align: right;\">\n",
       "      <th></th>\n",
       "      <th>Alcohol</th>\n",
       "      <th>Malic_Acid</th>\n",
       "      <th>Ash</th>\n",
       "      <th>Ash_Alcanity</th>\n",
       "      <th>Magnesium</th>\n",
       "      <th>Total_Phenols</th>\n",
       "      <th>Flavanoids</th>\n",
       "      <th>Nonflavanoid_Phenols</th>\n",
       "      <th>Proanthocyanins</th>\n",
       "      <th>Color_Intensity</th>\n",
       "      <th>Hue</th>\n",
       "      <th>OD280</th>\n",
       "      <th>Proline</th>\n",
       "      <th>Customer_Segment</th>\n",
       "    </tr>\n",
       "  </thead>\n",
       "  <tbody>\n",
       "    <tr>\n",
       "      <th>0</th>\n",
       "      <td>14.23</td>\n",
       "      <td>1.71</td>\n",
       "      <td>2.43</td>\n",
       "      <td>15.6</td>\n",
       "      <td>127</td>\n",
       "      <td>2.80</td>\n",
       "      <td>3.06</td>\n",
       "      <td>0.28</td>\n",
       "      <td>2.29</td>\n",
       "      <td>5.64</td>\n",
       "      <td>1.04</td>\n",
       "      <td>3.92</td>\n",
       "      <td>1065</td>\n",
       "      <td>1</td>\n",
       "    </tr>\n",
       "    <tr>\n",
       "      <th>1</th>\n",
       "      <td>13.20</td>\n",
       "      <td>1.78</td>\n",
       "      <td>2.14</td>\n",
       "      <td>11.2</td>\n",
       "      <td>100</td>\n",
       "      <td>2.65</td>\n",
       "      <td>2.76</td>\n",
       "      <td>0.26</td>\n",
       "      <td>1.28</td>\n",
       "      <td>4.38</td>\n",
       "      <td>1.05</td>\n",
       "      <td>3.40</td>\n",
       "      <td>1050</td>\n",
       "      <td>1</td>\n",
       "    </tr>\n",
       "    <tr>\n",
       "      <th>2</th>\n",
       "      <td>13.16</td>\n",
       "      <td>2.36</td>\n",
       "      <td>2.67</td>\n",
       "      <td>18.6</td>\n",
       "      <td>101</td>\n",
       "      <td>2.80</td>\n",
       "      <td>3.24</td>\n",
       "      <td>0.30</td>\n",
       "      <td>2.81</td>\n",
       "      <td>5.68</td>\n",
       "      <td>1.03</td>\n",
       "      <td>3.17</td>\n",
       "      <td>1185</td>\n",
       "      <td>1</td>\n",
       "    </tr>\n",
       "    <tr>\n",
       "      <th>3</th>\n",
       "      <td>14.37</td>\n",
       "      <td>1.95</td>\n",
       "      <td>2.50</td>\n",
       "      <td>16.8</td>\n",
       "      <td>113</td>\n",
       "      <td>3.85</td>\n",
       "      <td>3.49</td>\n",
       "      <td>0.24</td>\n",
       "      <td>2.18</td>\n",
       "      <td>7.80</td>\n",
       "      <td>0.86</td>\n",
       "      <td>3.45</td>\n",
       "      <td>1480</td>\n",
       "      <td>1</td>\n",
       "    </tr>\n",
       "    <tr>\n",
       "      <th>4</th>\n",
       "      <td>13.24</td>\n",
       "      <td>2.59</td>\n",
       "      <td>2.87</td>\n",
       "      <td>21.0</td>\n",
       "      <td>118</td>\n",
       "      <td>2.80</td>\n",
       "      <td>2.69</td>\n",
       "      <td>0.39</td>\n",
       "      <td>1.82</td>\n",
       "      <td>4.32</td>\n",
       "      <td>1.04</td>\n",
       "      <td>2.93</td>\n",
       "      <td>735</td>\n",
       "      <td>1</td>\n",
       "    </tr>\n",
       "  </tbody>\n",
       "</table>\n",
       "</div>"
      ],
      "text/plain": [
       "   Alcohol  Malic_Acid   Ash  Ash_Alcanity  Magnesium  Total_Phenols  \\\n",
       "0    14.23        1.71  2.43          15.6        127           2.80   \n",
       "1    13.20        1.78  2.14          11.2        100           2.65   \n",
       "2    13.16        2.36  2.67          18.6        101           2.80   \n",
       "3    14.37        1.95  2.50          16.8        113           3.85   \n",
       "4    13.24        2.59  2.87          21.0        118           2.80   \n",
       "\n",
       "   Flavanoids  Nonflavanoid_Phenols  Proanthocyanins  Color_Intensity   Hue  \\\n",
       "0        3.06                  0.28             2.29             5.64  1.04   \n",
       "1        2.76                  0.26             1.28             4.38  1.05   \n",
       "2        3.24                  0.30             2.81             5.68  1.03   \n",
       "3        3.49                  0.24             2.18             7.80  0.86   \n",
       "4        2.69                  0.39             1.82             4.32  1.04   \n",
       "\n",
       "   OD280  Proline  Customer_Segment  \n",
       "0   3.92     1065                 1  \n",
       "1   3.40     1050                 1  \n",
       "2   3.17     1185                 1  \n",
       "3   3.45     1480                 1  \n",
       "4   2.93      735                 1  "
      ]
     },
     "execution_count": 5,
     "metadata": {},
     "output_type": "execute_result"
    }
   ],
   "source": [
    "data.head()"
   ]
  },
  {
   "cell_type": "code",
   "execution_count": 13,
   "id": "4964bc2b-cc5b-4d43-aa19-e690b3e77636",
   "metadata": {},
   "outputs": [
    {
     "data": {
      "text/html": [
       "<div>\n",
       "<style scoped>\n",
       "    .dataframe tbody tr th:only-of-type {\n",
       "        vertical-align: middle;\n",
       "    }\n",
       "\n",
       "    .dataframe tbody tr th {\n",
       "        vertical-align: top;\n",
       "    }\n",
       "\n",
       "    .dataframe thead th {\n",
       "        text-align: right;\n",
       "    }\n",
       "</style>\n",
       "<table border=\"1\" class=\"dataframe\">\n",
       "  <thead>\n",
       "    <tr style=\"text-align: right;\">\n",
       "      <th></th>\n",
       "      <th>Alcohol</th>\n",
       "      <th>Malic_Acid</th>\n",
       "      <th>Ash</th>\n",
       "      <th>Ash_Alcanity</th>\n",
       "      <th>Magnesium</th>\n",
       "      <th>Total_Phenols</th>\n",
       "      <th>Flavanoids</th>\n",
       "      <th>Nonflavanoid_Phenols</th>\n",
       "      <th>Proanthocyanins</th>\n",
       "      <th>Color_Intensity</th>\n",
       "      <th>Hue</th>\n",
       "      <th>OD280</th>\n",
       "      <th>Proline</th>\n",
       "      <th>Customer_Segment</th>\n",
       "    </tr>\n",
       "  </thead>\n",
       "  <tbody>\n",
       "    <tr>\n",
       "      <th>count</th>\n",
       "      <td>178.000000</td>\n",
       "      <td>178.000000</td>\n",
       "      <td>178.000000</td>\n",
       "      <td>178.000000</td>\n",
       "      <td>178.000000</td>\n",
       "      <td>178.000000</td>\n",
       "      <td>178.000000</td>\n",
       "      <td>178.000000</td>\n",
       "      <td>178.000000</td>\n",
       "      <td>178.000000</td>\n",
       "      <td>178.000000</td>\n",
       "      <td>178.000000</td>\n",
       "      <td>178.000000</td>\n",
       "      <td>178.000000</td>\n",
       "    </tr>\n",
       "    <tr>\n",
       "      <th>mean</th>\n",
       "      <td>13.000618</td>\n",
       "      <td>2.336348</td>\n",
       "      <td>2.366517</td>\n",
       "      <td>19.494944</td>\n",
       "      <td>99.741573</td>\n",
       "      <td>2.295112</td>\n",
       "      <td>2.029270</td>\n",
       "      <td>0.361854</td>\n",
       "      <td>1.590899</td>\n",
       "      <td>5.058090</td>\n",
       "      <td>0.957449</td>\n",
       "      <td>2.611685</td>\n",
       "      <td>746.893258</td>\n",
       "      <td>1.938202</td>\n",
       "    </tr>\n",
       "    <tr>\n",
       "      <th>std</th>\n",
       "      <td>0.811827</td>\n",
       "      <td>1.117146</td>\n",
       "      <td>0.274344</td>\n",
       "      <td>3.339564</td>\n",
       "      <td>14.282484</td>\n",
       "      <td>0.625851</td>\n",
       "      <td>0.998859</td>\n",
       "      <td>0.124453</td>\n",
       "      <td>0.572359</td>\n",
       "      <td>2.318286</td>\n",
       "      <td>0.228572</td>\n",
       "      <td>0.709990</td>\n",
       "      <td>314.907474</td>\n",
       "      <td>0.775035</td>\n",
       "    </tr>\n",
       "    <tr>\n",
       "      <th>min</th>\n",
       "      <td>11.030000</td>\n",
       "      <td>0.740000</td>\n",
       "      <td>1.360000</td>\n",
       "      <td>10.600000</td>\n",
       "      <td>70.000000</td>\n",
       "      <td>0.980000</td>\n",
       "      <td>0.340000</td>\n",
       "      <td>0.130000</td>\n",
       "      <td>0.410000</td>\n",
       "      <td>1.280000</td>\n",
       "      <td>0.480000</td>\n",
       "      <td>1.270000</td>\n",
       "      <td>278.000000</td>\n",
       "      <td>1.000000</td>\n",
       "    </tr>\n",
       "    <tr>\n",
       "      <th>25%</th>\n",
       "      <td>12.362500</td>\n",
       "      <td>1.602500</td>\n",
       "      <td>2.210000</td>\n",
       "      <td>17.200000</td>\n",
       "      <td>88.000000</td>\n",
       "      <td>1.742500</td>\n",
       "      <td>1.205000</td>\n",
       "      <td>0.270000</td>\n",
       "      <td>1.250000</td>\n",
       "      <td>3.220000</td>\n",
       "      <td>0.782500</td>\n",
       "      <td>1.937500</td>\n",
       "      <td>500.500000</td>\n",
       "      <td>1.000000</td>\n",
       "    </tr>\n",
       "    <tr>\n",
       "      <th>50%</th>\n",
       "      <td>13.050000</td>\n",
       "      <td>1.865000</td>\n",
       "      <td>2.360000</td>\n",
       "      <td>19.500000</td>\n",
       "      <td>98.000000</td>\n",
       "      <td>2.355000</td>\n",
       "      <td>2.135000</td>\n",
       "      <td>0.340000</td>\n",
       "      <td>1.555000</td>\n",
       "      <td>4.690000</td>\n",
       "      <td>0.965000</td>\n",
       "      <td>2.780000</td>\n",
       "      <td>673.500000</td>\n",
       "      <td>2.000000</td>\n",
       "    </tr>\n",
       "    <tr>\n",
       "      <th>75%</th>\n",
       "      <td>13.677500</td>\n",
       "      <td>3.082500</td>\n",
       "      <td>2.557500</td>\n",
       "      <td>21.500000</td>\n",
       "      <td>107.000000</td>\n",
       "      <td>2.800000</td>\n",
       "      <td>2.875000</td>\n",
       "      <td>0.437500</td>\n",
       "      <td>1.950000</td>\n",
       "      <td>6.200000</td>\n",
       "      <td>1.120000</td>\n",
       "      <td>3.170000</td>\n",
       "      <td>985.000000</td>\n",
       "      <td>3.000000</td>\n",
       "    </tr>\n",
       "    <tr>\n",
       "      <th>max</th>\n",
       "      <td>14.830000</td>\n",
       "      <td>5.800000</td>\n",
       "      <td>3.230000</td>\n",
       "      <td>30.000000</td>\n",
       "      <td>162.000000</td>\n",
       "      <td>3.880000</td>\n",
       "      <td>5.080000</td>\n",
       "      <td>0.660000</td>\n",
       "      <td>3.580000</td>\n",
       "      <td>13.000000</td>\n",
       "      <td>1.710000</td>\n",
       "      <td>4.000000</td>\n",
       "      <td>1680.000000</td>\n",
       "      <td>3.000000</td>\n",
       "    </tr>\n",
       "  </tbody>\n",
       "</table>\n",
       "</div>"
      ],
      "text/plain": [
       "          Alcohol  Malic_Acid         Ash  Ash_Alcanity   Magnesium  \\\n",
       "count  178.000000  178.000000  178.000000    178.000000  178.000000   \n",
       "mean    13.000618    2.336348    2.366517     19.494944   99.741573   \n",
       "std      0.811827    1.117146    0.274344      3.339564   14.282484   \n",
       "min     11.030000    0.740000    1.360000     10.600000   70.000000   \n",
       "25%     12.362500    1.602500    2.210000     17.200000   88.000000   \n",
       "50%     13.050000    1.865000    2.360000     19.500000   98.000000   \n",
       "75%     13.677500    3.082500    2.557500     21.500000  107.000000   \n",
       "max     14.830000    5.800000    3.230000     30.000000  162.000000   \n",
       "\n",
       "       Total_Phenols  Flavanoids  Nonflavanoid_Phenols  Proanthocyanins  \\\n",
       "count     178.000000  178.000000            178.000000       178.000000   \n",
       "mean        2.295112    2.029270              0.361854         1.590899   \n",
       "std         0.625851    0.998859              0.124453         0.572359   \n",
       "min         0.980000    0.340000              0.130000         0.410000   \n",
       "25%         1.742500    1.205000              0.270000         1.250000   \n",
       "50%         2.355000    2.135000              0.340000         1.555000   \n",
       "75%         2.800000    2.875000              0.437500         1.950000   \n",
       "max         3.880000    5.080000              0.660000         3.580000   \n",
       "\n",
       "       Color_Intensity         Hue       OD280      Proline  Customer_Segment  \n",
       "count       178.000000  178.000000  178.000000   178.000000        178.000000  \n",
       "mean          5.058090    0.957449    2.611685   746.893258          1.938202  \n",
       "std           2.318286    0.228572    0.709990   314.907474          0.775035  \n",
       "min           1.280000    0.480000    1.270000   278.000000          1.000000  \n",
       "25%           3.220000    0.782500    1.937500   500.500000          1.000000  \n",
       "50%           4.690000    0.965000    2.780000   673.500000          2.000000  \n",
       "75%           6.200000    1.120000    3.170000   985.000000          3.000000  \n",
       "max          13.000000    1.710000    4.000000  1680.000000          3.000000  "
      ]
     },
     "execution_count": 13,
     "metadata": {},
     "output_type": "execute_result"
    }
   ],
   "source": [
    "data.describe()"
   ]
  },
  {
   "cell_type": "raw",
   "id": "9dc2ed61-84ce-4abe-9295-bb23807e0fce",
   "metadata": {},
   "source": [
    "## std = standard deviation = deviation of the values related to the mean"
   ]
  },
  {
   "cell_type": "markdown",
   "id": "8a797975-5c41-4991-8904-89610c1ee22c",
   "metadata": {},
   "source": [
    "# <font color='red'>Correlational matrix</font>\n",
    "<hr style='border: 2px solid red;'>"
   ]
  },
  {
   "cell_type": "code",
   "execution_count": 14,
   "id": "44ec619a-dfe5-44a8-9727-34eb911af212",
   "metadata": {},
   "outputs": [],
   "source": [
    "matrix_corr = data.corr()"
   ]
  },
  {
   "cell_type": "code",
   "execution_count": 15,
   "id": "5f37e441-514b-41f8-ba66-a4c8a3a2ef8d",
   "metadata": {},
   "outputs": [
    {
     "data": {
      "text/html": [
       "<div>\n",
       "<style scoped>\n",
       "    .dataframe tbody tr th:only-of-type {\n",
       "        vertical-align: middle;\n",
       "    }\n",
       "\n",
       "    .dataframe tbody tr th {\n",
       "        vertical-align: top;\n",
       "    }\n",
       "\n",
       "    .dataframe thead th {\n",
       "        text-align: right;\n",
       "    }\n",
       "</style>\n",
       "<table border=\"1\" class=\"dataframe\">\n",
       "  <thead>\n",
       "    <tr style=\"text-align: right;\">\n",
       "      <th></th>\n",
       "      <th>Alcohol</th>\n",
       "      <th>Malic_Acid</th>\n",
       "      <th>Ash</th>\n",
       "      <th>Ash_Alcanity</th>\n",
       "      <th>Magnesium</th>\n",
       "      <th>Total_Phenols</th>\n",
       "      <th>Flavanoids</th>\n",
       "      <th>Nonflavanoid_Phenols</th>\n",
       "      <th>Proanthocyanins</th>\n",
       "      <th>Color_Intensity</th>\n",
       "      <th>Hue</th>\n",
       "      <th>OD280</th>\n",
       "      <th>Proline</th>\n",
       "      <th>Customer_Segment</th>\n",
       "    </tr>\n",
       "  </thead>\n",
       "  <tbody>\n",
       "    <tr>\n",
       "      <th>Alcohol</th>\n",
       "      <td>1.000000</td>\n",
       "      <td>0.094397</td>\n",
       "      <td>0.211545</td>\n",
       "      <td>-0.310235</td>\n",
       "      <td>0.270798</td>\n",
       "      <td>0.289101</td>\n",
       "      <td>0.236815</td>\n",
       "      <td>-0.155929</td>\n",
       "      <td>0.136698</td>\n",
       "      <td>0.546364</td>\n",
       "      <td>-0.071747</td>\n",
       "      <td>0.072343</td>\n",
       "      <td>0.643720</td>\n",
       "      <td>-0.328222</td>\n",
       "    </tr>\n",
       "    <tr>\n",
       "      <th>Malic_Acid</th>\n",
       "      <td>0.094397</td>\n",
       "      <td>1.000000</td>\n",
       "      <td>0.164045</td>\n",
       "      <td>0.288500</td>\n",
       "      <td>-0.054575</td>\n",
       "      <td>-0.335167</td>\n",
       "      <td>-0.411007</td>\n",
       "      <td>0.292977</td>\n",
       "      <td>-0.220746</td>\n",
       "      <td>0.248985</td>\n",
       "      <td>-0.561296</td>\n",
       "      <td>-0.368710</td>\n",
       "      <td>-0.192011</td>\n",
       "      <td>0.437776</td>\n",
       "    </tr>\n",
       "    <tr>\n",
       "      <th>Ash</th>\n",
       "      <td>0.211545</td>\n",
       "      <td>0.164045</td>\n",
       "      <td>1.000000</td>\n",
       "      <td>0.443367</td>\n",
       "      <td>0.286587</td>\n",
       "      <td>0.128980</td>\n",
       "      <td>0.115077</td>\n",
       "      <td>0.186230</td>\n",
       "      <td>0.009652</td>\n",
       "      <td>0.258887</td>\n",
       "      <td>-0.074667</td>\n",
       "      <td>0.003911</td>\n",
       "      <td>0.223626</td>\n",
       "      <td>-0.049643</td>\n",
       "    </tr>\n",
       "    <tr>\n",
       "      <th>Ash_Alcanity</th>\n",
       "      <td>-0.310235</td>\n",
       "      <td>0.288500</td>\n",
       "      <td>0.443367</td>\n",
       "      <td>1.000000</td>\n",
       "      <td>-0.083333</td>\n",
       "      <td>-0.321113</td>\n",
       "      <td>-0.351370</td>\n",
       "      <td>0.361922</td>\n",
       "      <td>-0.197327</td>\n",
       "      <td>0.018732</td>\n",
       "      <td>-0.273955</td>\n",
       "      <td>-0.276769</td>\n",
       "      <td>-0.440597</td>\n",
       "      <td>0.517859</td>\n",
       "    </tr>\n",
       "    <tr>\n",
       "      <th>Magnesium</th>\n",
       "      <td>0.270798</td>\n",
       "      <td>-0.054575</td>\n",
       "      <td>0.286587</td>\n",
       "      <td>-0.083333</td>\n",
       "      <td>1.000000</td>\n",
       "      <td>0.214401</td>\n",
       "      <td>0.195784</td>\n",
       "      <td>-0.256294</td>\n",
       "      <td>0.236441</td>\n",
       "      <td>0.199950</td>\n",
       "      <td>0.055398</td>\n",
       "      <td>0.066004</td>\n",
       "      <td>0.393351</td>\n",
       "      <td>-0.209179</td>\n",
       "    </tr>\n",
       "  </tbody>\n",
       "</table>\n",
       "</div>"
      ],
      "text/plain": [
       "               Alcohol  Malic_Acid       Ash  Ash_Alcanity  Magnesium  \\\n",
       "Alcohol       1.000000    0.094397  0.211545     -0.310235   0.270798   \n",
       "Malic_Acid    0.094397    1.000000  0.164045      0.288500  -0.054575   \n",
       "Ash           0.211545    0.164045  1.000000      0.443367   0.286587   \n",
       "Ash_Alcanity -0.310235    0.288500  0.443367      1.000000  -0.083333   \n",
       "Magnesium     0.270798   -0.054575  0.286587     -0.083333   1.000000   \n",
       "\n",
       "              Total_Phenols  Flavanoids  Nonflavanoid_Phenols  \\\n",
       "Alcohol            0.289101    0.236815             -0.155929   \n",
       "Malic_Acid        -0.335167   -0.411007              0.292977   \n",
       "Ash                0.128980    0.115077              0.186230   \n",
       "Ash_Alcanity      -0.321113   -0.351370              0.361922   \n",
       "Magnesium          0.214401    0.195784             -0.256294   \n",
       "\n",
       "              Proanthocyanins  Color_Intensity       Hue     OD280   Proline  \\\n",
       "Alcohol              0.136698         0.546364 -0.071747  0.072343  0.643720   \n",
       "Malic_Acid          -0.220746         0.248985 -0.561296 -0.368710 -0.192011   \n",
       "Ash                  0.009652         0.258887 -0.074667  0.003911  0.223626   \n",
       "Ash_Alcanity        -0.197327         0.018732 -0.273955 -0.276769 -0.440597   \n",
       "Magnesium            0.236441         0.199950  0.055398  0.066004  0.393351   \n",
       "\n",
       "              Customer_Segment  \n",
       "Alcohol              -0.328222  \n",
       "Malic_Acid            0.437776  \n",
       "Ash                  -0.049643  \n",
       "Ash_Alcanity          0.517859  \n",
       "Magnesium            -0.209179  "
      ]
     },
     "execution_count": 15,
     "metadata": {},
     "output_type": "execute_result"
    }
   ],
   "source": [
    "matrix_corr.head()"
   ]
  },
  {
   "cell_type": "raw",
   "id": "40d5b00c-90bd-4156-a9af-0561449d3a10",
   "metadata": {},
   "source": [
    "### as it's not always easy to identify information on the sheet, we can use graphics to have a better visualization "
   ]
  },
  {
   "cell_type": "markdown",
   "id": "ac1696c1-e3da-491b-b0c7-17c4ec68b867",
   "metadata": {},
   "source": [
    "### <font color='orange'>Importing biokit</font>\n",
    "<hr style='border: 1px solid orange;'>"
   ]
  },
  {
   "cell_type": "code",
   "execution_count": 16,
   "id": "a8290939-dba4-4da6-97c6-97f9fd9cdfe5",
   "metadata": {},
   "outputs": [
    {
     "name": "stdout",
     "output_type": "stream",
     "text": [
      "Creating directory /Users/victorfigueiredo/Library/Application Support/biokit \n",
      "Creating directory /Users/victorfigueiredo/Library/Application Support/bioservices \n"
     ]
    }
   ],
   "source": [
    "from biokit.viz import corrplot"
   ]
  },
  {
   "cell_type": "code",
   "execution_count": 17,
   "id": "0d9e5b61-b3db-4f98-b488-9eff689a63d1",
   "metadata": {},
   "outputs": [],
   "source": [
    "import matplotlib.pyplot as plt"
   ]
  },
  {
   "cell_type": "code",
   "execution_count": 28,
   "id": "5fa87ba5-9941-4e96-8720-4d9dfaf45c5d",
   "metadata": {},
   "outputs": [
    {
     "data": {
      "image/png": "[encoded data removed]",
      "text/plain": [
       "<Figure size 1152x720 with 2 Axes>"
      ]
     },
     "metadata": {},
     "output_type": "display_data"
    }
   ],
   "source": [
    "corr_graph = corrplot.Corrplot(matrix_corr)\n",
    "corr_graph.plot(upper = 'square', fontsize = 'large', cmap ='jet')\n",
    "fig = plt.gcf()  #get the current figure https://matplotlib.org/stable/api/_as_gen/matplotlib.pyplot.gcf.html\n",
    "fig.set_size_inches(16,10)"
   ]
  },
  {
   "cell_type": "raw",
   "id": "c257518d-b342-43b8-b428-f12d0a1a1b66",
   "metadata": {},
   "source": [
    "A data with high correlation is considered redundant, that is, if a data has a high correlation with another\n",
    "only one of them is needed for analysis and the other can be removed\n"
   ]
  },
  {
   "cell_type": "markdown",
   "id": "b03c4d18-d5fc-401f-b1c1-fd9d1605613b",
   "metadata": {},
   "source": [
    "### <font color='orange'>Normalizing the data for clustering</font>\n",
    "<hr style='border: 1px solid orange;'>"
   ]
  },
  {
   "cell_type": "markdown",
   "id": "cfbc9b52-d7bf-4b1f-9755-6f2fcc139014",
   "metadata": {},
   "source": [
    "**The data needs to be normalized in order to be useful in clustering Techniques**"
   ]
  },
  {
   "cell_type": "code",
   "execution_count": 30,
   "id": "2a91d767-c485-4f8e-a46d-b5a3c9dc1615",
   "metadata": {},
   "outputs": [],
   "source": [
    "atributes = data.columns"
   ]
  },
  {
   "cell_type": "code",
   "execution_count": 35,
   "id": "95efd27b-da8a-432a-9d55-98db386c7249",
   "metadata": {},
   "outputs": [
    {
     "data": {
      "text/plain": [
       "Index(['Alcohol', 'Malic_Acid', 'Ash', 'Ash_Alcanity', 'Magnesium',\n",
       "       'Total_Phenols', 'Flavanoids', 'Nonflavanoid_Phenols',\n",
       "       'Proanthocyanins', 'Color_Intensity', 'Hue', 'OD280', 'Proline',\n",
       "       'Customer_Segment'],\n",
       "      dtype='object')"
      ]
     },
     "execution_count": 35,
     "metadata": {},
     "output_type": "execute_result"
    }
   ],
   "source": [
    "atributes"
   ]
  },
  {
   "cell_type": "markdown",
   "id": "77267c75-ebac-48dc-b841-7058b5f18396",
   "metadata": {},
   "source": [
    "**Normalizing using min and max attributes**"
   ]
  },
  {
   "cell_type": "code",
   "execution_count": 36,
   "id": "fd581f70-2a77-4563-958a-c4bc24c14f14",
   "metadata": {},
   "outputs": [],
   "source": [
    "for atribute in atributes:\n",
    "    data[atribute] = (data[atribute] - min(data[atribute])) / (max(data[atribute]) - min(data[atribute]))"
   ]
  },
  {
   "cell_type": "code",
   "execution_count": 37,
   "id": "e0984416-c178-483b-af96-1a73db01b5fb",
   "metadata": {},
   "outputs": [
    {
     "data": {
      "text/html": [
       "<div>\n",
       "<style scoped>\n",
       "    .dataframe tbody tr th:only-of-type {\n",
       "        vertical-align: middle;\n",
       "    }\n",
       "\n",
       "    .dataframe tbody tr th {\n",
       "        vertical-align: top;\n",
       "    }\n",
       "\n",
       "    .dataframe thead th {\n",
       "        text-align: right;\n",
       "    }\n",
       "</style>\n",
       "<table border=\"1\" class=\"dataframe\">\n",
       "  <thead>\n",
       "    <tr style=\"text-align: right;\">\n",
       "      <th></th>\n",
       "      <th>Alcohol</th>\n",
       "      <th>Malic_Acid</th>\n",
       "      <th>Ash</th>\n",
       "      <th>Ash_Alcanity</th>\n",
       "      <th>Magnesium</th>\n",
       "      <th>Total_Phenols</th>\n",
       "      <th>Flavanoids</th>\n",
       "      <th>Nonflavanoid_Phenols</th>\n",
       "      <th>Proanthocyanins</th>\n",
       "      <th>Color_Intensity</th>\n",
       "      <th>Hue</th>\n",
       "      <th>OD280</th>\n",
       "      <th>Proline</th>\n",
       "      <th>Customer_Segment</th>\n",
       "    </tr>\n",
       "  </thead>\n",
       "  <tbody>\n",
       "    <tr>\n",
       "      <th>0</th>\n",
       "      <td>0.842105</td>\n",
       "      <td>0.191700</td>\n",
       "      <td>0.572193</td>\n",
       "      <td>0.257732</td>\n",
       "      <td>0.619565</td>\n",
       "      <td>0.627586</td>\n",
       "      <td>0.573840</td>\n",
       "      <td>0.283019</td>\n",
       "      <td>0.593060</td>\n",
       "      <td>0.372014</td>\n",
       "      <td>0.455285</td>\n",
       "      <td>0.970696</td>\n",
       "      <td>0.561341</td>\n",
       "      <td>0.0</td>\n",
       "    </tr>\n",
       "    <tr>\n",
       "      <th>1</th>\n",
       "      <td>0.571053</td>\n",
       "      <td>0.205534</td>\n",
       "      <td>0.417112</td>\n",
       "      <td>0.030928</td>\n",
       "      <td>0.326087</td>\n",
       "      <td>0.575862</td>\n",
       "      <td>0.510549</td>\n",
       "      <td>0.245283</td>\n",
       "      <td>0.274448</td>\n",
       "      <td>0.264505</td>\n",
       "      <td>0.463415</td>\n",
       "      <td>0.780220</td>\n",
       "      <td>0.550642</td>\n",
       "      <td>0.0</td>\n",
       "    </tr>\n",
       "    <tr>\n",
       "      <th>2</th>\n",
       "      <td>0.560526</td>\n",
       "      <td>0.320158</td>\n",
       "      <td>0.700535</td>\n",
       "      <td>0.412371</td>\n",
       "      <td>0.336957</td>\n",
       "      <td>0.627586</td>\n",
       "      <td>0.611814</td>\n",
       "      <td>0.320755</td>\n",
       "      <td>0.757098</td>\n",
       "      <td>0.375427</td>\n",
       "      <td>0.447154</td>\n",
       "      <td>0.695971</td>\n",
       "      <td>0.646933</td>\n",
       "      <td>0.0</td>\n",
       "    </tr>\n",
       "    <tr>\n",
       "      <th>3</th>\n",
       "      <td>0.878947</td>\n",
       "      <td>0.239130</td>\n",
       "      <td>0.609626</td>\n",
       "      <td>0.319588</td>\n",
       "      <td>0.467391</td>\n",
       "      <td>0.989655</td>\n",
       "      <td>0.664557</td>\n",
       "      <td>0.207547</td>\n",
       "      <td>0.558360</td>\n",
       "      <td>0.556314</td>\n",
       "      <td>0.308943</td>\n",
       "      <td>0.798535</td>\n",
       "      <td>0.857347</td>\n",
       "      <td>0.0</td>\n",
       "    </tr>\n",
       "    <tr>\n",
       "      <th>4</th>\n",
       "      <td>0.581579</td>\n",
       "      <td>0.365613</td>\n",
       "      <td>0.807487</td>\n",
       "      <td>0.536082</td>\n",
       "      <td>0.521739</td>\n",
       "      <td>0.627586</td>\n",
       "      <td>0.495781</td>\n",
       "      <td>0.490566</td>\n",
       "      <td>0.444795</td>\n",
       "      <td>0.259386</td>\n",
       "      <td>0.455285</td>\n",
       "      <td>0.608059</td>\n",
       "      <td>0.325963</td>\n",
       "      <td>0.0</td>\n",
       "    </tr>\n",
       "  </tbody>\n",
       "</table>\n",
       "</div>"
      ],
      "text/plain": [
       "    Alcohol  Malic_Acid       Ash  Ash_Alcanity  Magnesium  Total_Phenols  \\\n",
       "0  0.842105    0.191700  0.572193      0.257732   0.619565       0.627586   \n",
       "1  0.571053    0.205534  0.417112      0.030928   0.326087       0.575862   \n",
       "2  0.560526    0.320158  0.700535      0.412371   0.336957       0.627586   \n",
       "3  0.878947    0.239130  0.609626      0.319588   0.467391       0.989655   \n",
       "4  0.581579    0.365613  0.807487      0.536082   0.521739       0.627586   \n",
       "\n",
       "   Flavanoids  Nonflavanoid_Phenols  Proanthocyanins  Color_Intensity  \\\n",
       "0    0.573840              0.283019         0.593060         0.372014   \n",
       "1    0.510549              0.245283         0.274448         0.264505   \n",
       "2    0.611814              0.320755         0.757098         0.375427   \n",
       "3    0.664557              0.207547         0.558360         0.556314   \n",
       "4    0.495781              0.490566         0.444795         0.259386   \n",
       "\n",
       "        Hue     OD280   Proline  Customer_Segment  \n",
       "0  0.455285  0.970696  0.561341               0.0  \n",
       "1  0.463415  0.780220  0.550642               0.0  \n",
       "2  0.447154  0.695971  0.646933               0.0  \n",
       "3  0.308943  0.798535  0.857347               0.0  \n",
       "4  0.455285  0.608059  0.325963               0.0  "
      ]
     },
     "execution_count": 37,
     "metadata": {},
     "output_type": "execute_result"
    }
   ],
   "source": [
    "data.head()"
   ]
  },
  {
   "cell_type": "markdown",
   "id": "268377d1-fde3-4091-ba28-3ec00debb6fd",
   "metadata": {},
   "source": [
    "**Now all the variations were normalized in values between 0 and 1**"
   ]
  },
  {
   "cell_type": "code",
   "execution_count": 38,
   "id": "56698382-1178-4543-becc-c4631a88bf0c",
   "metadata": {},
   "outputs": [
    {
     "data": {
      "text/html": [
       "<div>\n",
       "<style scoped>\n",
       "    .dataframe tbody tr th:only-of-type {\n",
       "        vertical-align: middle;\n",
       "    }\n",
       "\n",
       "    .dataframe tbody tr th {\n",
       "        vertical-align: top;\n",
       "    }\n",
       "\n",
       "    .dataframe thead th {\n",
       "        text-align: right;\n",
       "    }\n",
       "</style>\n",
       "<table border=\"1\" class=\"dataframe\">\n",
       "  <thead>\n",
       "    <tr style=\"text-align: right;\">\n",
       "      <th></th>\n",
       "      <th>Alcohol</th>\n",
       "      <th>Malic_Acid</th>\n",
       "      <th>Ash</th>\n",
       "      <th>Ash_Alcanity</th>\n",
       "      <th>Magnesium</th>\n",
       "      <th>Total_Phenols</th>\n",
       "      <th>Flavanoids</th>\n",
       "      <th>Nonflavanoid_Phenols</th>\n",
       "      <th>Proanthocyanins</th>\n",
       "      <th>Color_Intensity</th>\n",
       "      <th>Hue</th>\n",
       "      <th>OD280</th>\n",
       "      <th>Proline</th>\n",
       "      <th>Customer_Segment</th>\n",
       "    </tr>\n",
       "  </thead>\n",
       "  <tbody>\n",
       "    <tr>\n",
       "      <th>count</th>\n",
       "      <td>178.000000</td>\n",
       "      <td>178.000000</td>\n",
       "      <td>178.000000</td>\n",
       "      <td>178.000000</td>\n",
       "      <td>178.000000</td>\n",
       "      <td>178.000000</td>\n",
       "      <td>178.000000</td>\n",
       "      <td>178.000000</td>\n",
       "      <td>178.000000</td>\n",
       "      <td>178.000000</td>\n",
       "      <td>178.000000</td>\n",
       "      <td>178.000000</td>\n",
       "      <td>178.000000</td>\n",
       "      <td>178.000000</td>\n",
       "    </tr>\n",
       "    <tr>\n",
       "      <th>mean</th>\n",
       "      <td>0.518584</td>\n",
       "      <td>0.315484</td>\n",
       "      <td>0.538244</td>\n",
       "      <td>0.458502</td>\n",
       "      <td>0.323278</td>\n",
       "      <td>0.453487</td>\n",
       "      <td>0.356386</td>\n",
       "      <td>0.437460</td>\n",
       "      <td>0.372523</td>\n",
       "      <td>0.322363</td>\n",
       "      <td>0.388170</td>\n",
       "      <td>0.491460</td>\n",
       "      <td>0.334446</td>\n",
       "      <td>0.469101</td>\n",
       "    </tr>\n",
       "    <tr>\n",
       "      <th>std</th>\n",
       "      <td>0.213639</td>\n",
       "      <td>0.220780</td>\n",
       "      <td>0.146708</td>\n",
       "      <td>0.172142</td>\n",
       "      <td>0.155244</td>\n",
       "      <td>0.215811</td>\n",
       "      <td>0.210730</td>\n",
       "      <td>0.234818</td>\n",
       "      <td>0.180555</td>\n",
       "      <td>0.197806</td>\n",
       "      <td>0.185831</td>\n",
       "      <td>0.260070</td>\n",
       "      <td>0.224613</td>\n",
       "      <td>0.387517</td>\n",
       "    </tr>\n",
       "    <tr>\n",
       "      <th>min</th>\n",
       "      <td>0.000000</td>\n",
       "      <td>0.000000</td>\n",
       "      <td>0.000000</td>\n",
       "      <td>0.000000</td>\n",
       "      <td>0.000000</td>\n",
       "      <td>0.000000</td>\n",
       "      <td>0.000000</td>\n",
       "      <td>0.000000</td>\n",
       "      <td>0.000000</td>\n",
       "      <td>0.000000</td>\n",
       "      <td>0.000000</td>\n",
       "      <td>0.000000</td>\n",
       "      <td>0.000000</td>\n",
       "      <td>0.000000</td>\n",
       "    </tr>\n",
       "    <tr>\n",
       "      <th>25%</th>\n",
       "      <td>0.350658</td>\n",
       "      <td>0.170455</td>\n",
       "      <td>0.454545</td>\n",
       "      <td>0.340206</td>\n",
       "      <td>0.195652</td>\n",
       "      <td>0.262931</td>\n",
       "      <td>0.182489</td>\n",
       "      <td>0.264151</td>\n",
       "      <td>0.264984</td>\n",
       "      <td>0.165529</td>\n",
       "      <td>0.245935</td>\n",
       "      <td>0.244505</td>\n",
       "      <td>0.158702</td>\n",
       "      <td>0.000000</td>\n",
       "    </tr>\n",
       "    <tr>\n",
       "      <th>50%</th>\n",
       "      <td>0.531579</td>\n",
       "      <td>0.222332</td>\n",
       "      <td>0.534759</td>\n",
       "      <td>0.458763</td>\n",
       "      <td>0.304348</td>\n",
       "      <td>0.474138</td>\n",
       "      <td>0.378692</td>\n",
       "      <td>0.396226</td>\n",
       "      <td>0.361199</td>\n",
       "      <td>0.290956</td>\n",
       "      <td>0.394309</td>\n",
       "      <td>0.553114</td>\n",
       "      <td>0.282097</td>\n",
       "      <td>0.500000</td>\n",
       "    </tr>\n",
       "    <tr>\n",
       "      <th>75%</th>\n",
       "      <td>0.696711</td>\n",
       "      <td>0.462945</td>\n",
       "      <td>0.640374</td>\n",
       "      <td>0.561856</td>\n",
       "      <td>0.402174</td>\n",
       "      <td>0.627586</td>\n",
       "      <td>0.534810</td>\n",
       "      <td>0.580189</td>\n",
       "      <td>0.485804</td>\n",
       "      <td>0.419795</td>\n",
       "      <td>0.520325</td>\n",
       "      <td>0.695971</td>\n",
       "      <td>0.504280</td>\n",
       "      <td>1.000000</td>\n",
       "    </tr>\n",
       "    <tr>\n",
       "      <th>max</th>\n",
       "      <td>1.000000</td>\n",
       "      <td>1.000000</td>\n",
       "      <td>1.000000</td>\n",
       "      <td>1.000000</td>\n",
       "      <td>1.000000</td>\n",
       "      <td>1.000000</td>\n",
       "      <td>1.000000</td>\n",
       "      <td>1.000000</td>\n",
       "      <td>1.000000</td>\n",
       "      <td>1.000000</td>\n",
       "      <td>1.000000</td>\n",
       "      <td>1.000000</td>\n",
       "      <td>1.000000</td>\n",
       "      <td>1.000000</td>\n",
       "    </tr>\n",
       "  </tbody>\n",
       "</table>\n",
       "</div>"
      ],
      "text/plain": [
       "          Alcohol  Malic_Acid         Ash  Ash_Alcanity   Magnesium  \\\n",
       "count  178.000000  178.000000  178.000000    178.000000  178.000000   \n",
       "mean     0.518584    0.315484    0.538244      0.458502    0.323278   \n",
       "std      0.213639    0.220780    0.146708      0.172142    0.155244   \n",
       "min      0.000000    0.000000    0.000000      0.000000    0.000000   \n",
       "25%      0.350658    0.170455    0.454545      0.340206    0.195652   \n",
       "50%      0.531579    0.222332    0.534759      0.458763    0.304348   \n",
       "75%      0.696711    0.462945    0.640374      0.561856    0.402174   \n",
       "max      1.000000    1.000000    1.000000      1.000000    1.000000   \n",
       "\n",
       "       Total_Phenols  Flavanoids  Nonflavanoid_Phenols  Proanthocyanins  \\\n",
       "count     178.000000  178.000000            178.000000       178.000000   \n",
       "mean        0.453487    0.356386              0.437460         0.372523   \n",
       "std         0.215811    0.210730              0.234818         0.180555   \n",
       "min         0.000000    0.000000              0.000000         0.000000   \n",
       "25%         0.262931    0.182489              0.264151         0.264984   \n",
       "50%         0.474138    0.378692              0.396226         0.361199   \n",
       "75%         0.627586    0.534810              0.580189         0.485804   \n",
       "max         1.000000    1.000000              1.000000         1.000000   \n",
       "\n",
       "       Color_Intensity         Hue       OD280     Proline  Customer_Segment  \n",
       "count       178.000000  178.000000  178.000000  178.000000        178.000000  \n",
       "mean          0.322363    0.388170    0.491460    0.334446          0.469101  \n",
       "std           0.197806    0.185831    0.260070    0.224613          0.387517  \n",
       "min           0.000000    0.000000    0.000000    0.000000          0.000000  \n",
       "25%           0.165529    0.245935    0.244505    0.158702          0.000000  \n",
       "50%           0.290956    0.394309    0.553114    0.282097          0.500000  \n",
       "75%           0.419795    0.520325    0.695971    0.504280          1.000000  \n",
       "max           1.000000    1.000000    1.000000    1.000000          1.000000  "
      ]
     },
     "execution_count": 38,
     "metadata": {},
     "output_type": "execute_result"
    }
   ],
   "source": [
    "data.describe()"
   ]
  },
  {
   "cell_type": "markdown",
   "id": "c73f43c3-34ad-4e46-9dbb-a71d9bed6b3b",
   "metadata": {},
   "source": [
    "### <font color='orange'>Data pre-processing </font>\n",
    "<hr style='border: 1px solid orange;'>"
   ]
  },
  {
   "cell_type": "markdown",
   "id": "37a2e7e4-7b25-4e2f-8f25-fc3827509807",
   "metadata": {},
   "source": [
    "**Normalazing the data using a library instead of the upper method**"
   ]
  },
  {
   "cell_type": "code",
   "execution_count": 69,
   "id": "f2ca2264-e3f9-487e-8b7c-67c65893b323",
   "metadata": {},
   "outputs": [],
   "source": [
    "from sklearn import preprocessing"
   ]
  },
  {
   "cell_type": "code",
   "execution_count": 70,
   "id": "79636610-d9f9-4183-9bef-acc7c5a61aab",
   "metadata": {},
   "outputs": [],
   "source": [
    "min_max_scaler = preprocessing.MinMaxScaler()"
   ]
  },
  {
   "cell_type": "code",
   "execution_count": 71,
   "id": "7426877a-be2c-488e-bcd6-aafbf7c2edba",
   "metadata": {},
   "outputs": [
    {
     "data": {
      "text/html": [
       "<style>#sk-container-id-2 {color: black;background-color: white;}#sk-container-id-2 pre{padding: 0;}#sk-container-id-2 div.sk-toggleable {background-color: white;}#sk-container-id-2 label.sk-toggleable__label {cursor: pointer;display: block;width: 100%;margin-bottom: 0;padding: 0.3em;box-sizing: border-box;text-align: center;}#sk-container-id-2 label.sk-toggleable__label-arrow:before {content: \"▸\";float: left;margin-right: 0.25em;color: #696969;}#sk-container-id-2 label.sk-toggleable__label-arrow:hover:before {color: black;}#sk-container-id-2 div.sk-estimator:hover label.sk-toggleable__label-arrow:before {color: black;}#sk-container-id-2 div.sk-toggleable__content {max-height: 0;max-width: 0;overflow: hidden;text-align: left;background-color: #f0f8ff;}#sk-container-id-2 div.sk-toggleable__content pre {margin: 0.2em;color: black;border-radius: 0.25em;background-color: #f0f8ff;}#sk-container-id-2 input.sk-toggleable__control:checked~div.sk-toggleable__content {max-height: 200px;max-width: 100%;overflow: auto;}#sk-container-id-2 input.sk-toggleable__control:checked~label.sk-toggleable__label-arrow:before {content: \"▾\";}#sk-container-id-2 div.sk-estimator input.sk-toggleable__control:checked~label.sk-toggleable__label {background-color: #d4ebff;}#sk-container-id-2 div.sk-label input.sk-toggleable__control:checked~label.sk-toggleable__label {background-color: #d4ebff;}#sk-container-id-2 input.sk-hidden--visually {border: 0;clip: rect(1px 1px 1px 1px);clip: rect(1px, 1px, 1px, 1px);height: 1px;margin: -1px;overflow: hidden;padding: 0;position: absolute;width: 1px;}#sk-container-id-2 div.sk-estimator {font-family: monospace;background-color: #f0f8ff;border: 1px dotted black;border-radius: 0.25em;box-sizing: border-box;margin-bottom: 0.5em;}#sk-container-id-2 div.sk-estimator:hover {background-color: #d4ebff;}#sk-container-id-2 div.sk-parallel-item::after {content: \"\";width: 100%;border-bottom: 1px solid gray;flex-grow: 1;}#sk-container-id-2 div.sk-label:hover label.sk-toggleable__label {background-color: #d4ebff;}#sk-container-id-2 div.sk-serial::before {content: \"\";position: absolute;border-left: 1px solid gray;box-sizing: border-box;top: 0;bottom: 0;left: 50%;z-index: 0;}#sk-container-id-2 div.sk-serial {display: flex;flex-direction: column;align-items: center;background-color: white;padding-right: 0.2em;padding-left: 0.2em;position: relative;}#sk-container-id-2 div.sk-item {position: relative;z-index: 1;}#sk-container-id-2 div.sk-parallel {display: flex;align-items: stretch;justify-content: center;background-color: white;position: relative;}#sk-container-id-2 div.sk-item::before, #sk-container-id-2 div.sk-parallel-item::before {content: \"\";position: absolute;border-left: 1px solid gray;box-sizing: border-box;top: 0;bottom: 0;left: 50%;z-index: -1;}#sk-container-id-2 div.sk-parallel-item {display: flex;flex-direction: column;z-index: 1;position: relative;background-color: white;}#sk-container-id-2 div.sk-parallel-item:first-child::after {align-self: flex-end;width: 50%;}#sk-container-id-2 div.sk-parallel-item:last-child::after {align-self: flex-start;width: 50%;}#sk-container-id-2 div.sk-parallel-item:only-child::after {width: 0;}#sk-container-id-2 div.sk-dashed-wrapped {border: 1px dashed gray;margin: 0 0.4em 0.5em 0.4em;box-sizing: border-box;padding-bottom: 0.4em;background-color: white;}#sk-container-id-2 div.sk-label label {font-family: monospace;font-weight: bold;display: inline-block;line-height: 1.2em;}#sk-container-id-2 div.sk-label-container {text-align: center;}#sk-container-id-2 div.sk-container {/* jupyter's `normalize.less` sets `[hidden] { display: none; }` but bootstrap.min.css set `[hidden] { display: none !important; }` so we also need the `!important` here to be able to override the default hidden behavior on the sphinx rendered scikit-learn.org. See: https://github.com/scikit-learn/scikit-learn/issues/21755 */display: inline-block !important;position: relative;}#sk-container-id-2 div.sk-text-repr-fallback {display: none;}</style><div id=\"sk-container-id-2\" class=\"sk-top-container\"><div class=\"sk-text-repr-fallback\"><pre>MinMaxScaler()</pre><b>In a Jupyter environment, please rerun this cell to show the HTML representation or trust the notebook. <br />On GitHub, the HTML representation is unable to render, please try loading this page with nbviewer.org.</b></div><div class=\"sk-container\" hidden><div class=\"sk-item\"><div class=\"sk-estimator sk-toggleable\"><input class=\"sk-toggleable__control sk-hidden--visually\" id=\"sk-estimator-id-2\" type=\"checkbox\" checked><label for=\"sk-estimator-id-2\" class=\"sk-toggleable__label sk-toggleable__label-arrow\">MinMaxScaler</label><div class=\"sk-toggleable__content\"><pre>MinMaxScaler()</pre></div></div></div></div></div>"
      ],
      "text/plain": [
       "MinMaxScaler()"
      ]
     },
     "execution_count": 71,
     "metadata": {},
     "output_type": "execute_result"
    }
   ],
   "source": [
    "min_max_scaler"
   ]
  },
  {
   "cell_type": "code",
   "execution_count": 72,
   "id": "9e21a677-6041-435e-8106-ba48ff94c1b8",
   "metadata": {},
   "outputs": [],
   "source": [
    "np_data = min_max_scaler.fit_transform(data)"
   ]
  },
  {
   "cell_type": "code",
   "execution_count": 73,
   "id": "76034e19-c210-4b85-a1fd-6eb3d7271780",
   "metadata": {},
   "outputs": [],
   "source": [
    "# this will return a numpy array, to convert to dataframe:"
   ]
  },
  {
   "cell_type": "code",
   "execution_count": 74,
   "id": "cc44d3e0-f556-4c06-bd96-f34671a7b5f6",
   "metadata": {},
   "outputs": [],
   "source": [
    "data = pd.DataFrame(np_data, columns = atributes) "
   ]
  },
  {
   "cell_type": "code",
   "execution_count": 75,
   "id": "1ff10ed1-0762-4cbc-90e2-1755f6f41384",
   "metadata": {},
   "outputs": [
    {
     "data": {
      "text/html": [
       "<div>\n",
       "<style scoped>\n",
       "    .dataframe tbody tr th:only-of-type {\n",
       "        vertical-align: middle;\n",
       "    }\n",
       "\n",
       "    .dataframe tbody tr th {\n",
       "        vertical-align: top;\n",
       "    }\n",
       "\n",
       "    .dataframe thead th {\n",
       "        text-align: right;\n",
       "    }\n",
       "</style>\n",
       "<table border=\"1\" class=\"dataframe\">\n",
       "  <thead>\n",
       "    <tr style=\"text-align: right;\">\n",
       "      <th></th>\n",
       "      <th>Alcohol</th>\n",
       "      <th>Malic_Acid</th>\n",
       "      <th>Ash</th>\n",
       "      <th>Ash_Alcanity</th>\n",
       "      <th>Magnesium</th>\n",
       "      <th>Total_Phenols</th>\n",
       "      <th>Flavanoids</th>\n",
       "      <th>Nonflavanoid_Phenols</th>\n",
       "      <th>Proanthocyanins</th>\n",
       "      <th>Color_Intensity</th>\n",
       "      <th>Hue</th>\n",
       "      <th>OD280</th>\n",
       "      <th>Proline</th>\n",
       "      <th>Customer_Segment</th>\n",
       "    </tr>\n",
       "  </thead>\n",
       "  <tbody>\n",
       "    <tr>\n",
       "      <th>count</th>\n",
       "      <td>178.000000</td>\n",
       "      <td>178.000000</td>\n",
       "      <td>178.000000</td>\n",
       "      <td>178.000000</td>\n",
       "      <td>178.000000</td>\n",
       "      <td>178.000000</td>\n",
       "      <td>178.000000</td>\n",
       "      <td>178.000000</td>\n",
       "      <td>178.000000</td>\n",
       "      <td>178.000000</td>\n",
       "      <td>178.000000</td>\n",
       "      <td>178.000000</td>\n",
       "      <td>178.000000</td>\n",
       "      <td>178.000000</td>\n",
       "    </tr>\n",
       "    <tr>\n",
       "      <th>mean</th>\n",
       "      <td>0.518076</td>\n",
       "      <td>0.315040</td>\n",
       "      <td>0.538045</td>\n",
       "      <td>0.458502</td>\n",
       "      <td>0.323695</td>\n",
       "      <td>0.453969</td>\n",
       "      <td>0.357119</td>\n",
       "      <td>0.437913</td>\n",
       "      <td>0.372312</td>\n",
       "      <td>0.321499</td>\n",
       "      <td>0.387745</td>\n",
       "      <td>0.492126</td>\n",
       "      <td>0.334043</td>\n",
       "      <td>0.469101</td>\n",
       "    </tr>\n",
       "    <tr>\n",
       "      <th>std</th>\n",
       "      <td>0.213938</td>\n",
       "      <td>0.220865</td>\n",
       "      <td>0.146628</td>\n",
       "      <td>0.172142</td>\n",
       "      <td>0.155125</td>\n",
       "      <td>0.215623</td>\n",
       "      <td>0.210558</td>\n",
       "      <td>0.234745</td>\n",
       "      <td>0.180387</td>\n",
       "      <td>0.197770</td>\n",
       "      <td>0.186046</td>\n",
       "      <td>0.259886</td>\n",
       "      <td>0.224862</td>\n",
       "      <td>0.387517</td>\n",
       "    </tr>\n",
       "    <tr>\n",
       "      <th>min</th>\n",
       "      <td>0.000000</td>\n",
       "      <td>0.000000</td>\n",
       "      <td>0.000000</td>\n",
       "      <td>0.000000</td>\n",
       "      <td>0.000000</td>\n",
       "      <td>0.000000</td>\n",
       "      <td>0.000000</td>\n",
       "      <td>0.000000</td>\n",
       "      <td>0.000000</td>\n",
       "      <td>0.000000</td>\n",
       "      <td>0.000000</td>\n",
       "      <td>0.000000</td>\n",
       "      <td>0.000000</td>\n",
       "      <td>0.000000</td>\n",
       "    </tr>\n",
       "    <tr>\n",
       "      <th>25%</th>\n",
       "      <td>0.350213</td>\n",
       "      <td>0.170154</td>\n",
       "      <td>0.454678</td>\n",
       "      <td>0.340206</td>\n",
       "      <td>0.196594</td>\n",
       "      <td>0.263441</td>\n",
       "      <td>0.183824</td>\n",
       "      <td>0.264637</td>\n",
       "      <td>0.264388</td>\n",
       "      <td>0.164694</td>\n",
       "      <td>0.245362</td>\n",
       "      <td>0.246114</td>\n",
       "      <td>0.157511</td>\n",
       "      <td>0.000000</td>\n",
       "    </tr>\n",
       "    <tr>\n",
       "      <th>50%</th>\n",
       "      <td>0.530917</td>\n",
       "      <td>0.221366</td>\n",
       "      <td>0.535088</td>\n",
       "      <td>0.458763</td>\n",
       "      <td>0.304954</td>\n",
       "      <td>0.474194</td>\n",
       "      <td>0.379202</td>\n",
       "      <td>0.395785</td>\n",
       "      <td>0.361511</td>\n",
       "      <td>0.290927</td>\n",
       "      <td>0.394249</td>\n",
       "      <td>0.554404</td>\n",
       "      <td>0.281390</td>\n",
       "      <td>0.500000</td>\n",
       "    </tr>\n",
       "    <tr>\n",
       "      <th>75%</th>\n",
       "      <td>0.696695</td>\n",
       "      <td>0.463106</td>\n",
       "      <td>0.640351</td>\n",
       "      <td>0.561856</td>\n",
       "      <td>0.402477</td>\n",
       "      <td>0.627957</td>\n",
       "      <td>0.534664</td>\n",
       "      <td>0.580796</td>\n",
       "      <td>0.485612</td>\n",
       "      <td>0.418146</td>\n",
       "      <td>0.519481</td>\n",
       "      <td>0.696891</td>\n",
       "      <td>0.504484</td>\n",
       "      <td>1.000000</td>\n",
       "    </tr>\n",
       "    <tr>\n",
       "      <th>max</th>\n",
       "      <td>1.000000</td>\n",
       "      <td>1.000000</td>\n",
       "      <td>1.000000</td>\n",
       "      <td>1.000000</td>\n",
       "      <td>1.000000</td>\n",
       "      <td>1.000000</td>\n",
       "      <td>1.000000</td>\n",
       "      <td>1.000000</td>\n",
       "      <td>1.000000</td>\n",
       "      <td>1.000000</td>\n",
       "      <td>1.000000</td>\n",
       "      <td>1.000000</td>\n",
       "      <td>1.000000</td>\n",
       "      <td>1.000000</td>\n",
       "    </tr>\n",
       "  </tbody>\n",
       "</table>\n",
       "</div>"
      ],
      "text/plain": [
       "          Alcohol  Malic_Acid         Ash  Ash_Alcanity   Magnesium  \\\n",
       "count  178.000000  178.000000  178.000000    178.000000  178.000000   \n",
       "mean     0.518076    0.315040    0.538045      0.458502    0.323695   \n",
       "std      0.213938    0.220865    0.146628      0.172142    0.155125   \n",
       "min      0.000000    0.000000    0.000000      0.000000    0.000000   \n",
       "25%      0.350213    0.170154    0.454678      0.340206    0.196594   \n",
       "50%      0.530917    0.221366    0.535088      0.458763    0.304954   \n",
       "75%      0.696695    0.463106    0.640351      0.561856    0.402477   \n",
       "max      1.000000    1.000000    1.000000      1.000000    1.000000   \n",
       "\n",
       "       Total_Phenols  Flavanoids  Nonflavanoid_Phenols  Proanthocyanins  \\\n",
       "count     178.000000  178.000000            178.000000       178.000000   \n",
       "mean        0.453969    0.357119              0.437913         0.372312   \n",
       "std         0.215623    0.210558              0.234745         0.180387   \n",
       "min         0.000000    0.000000              0.000000         0.000000   \n",
       "25%         0.263441    0.183824              0.264637         0.264388   \n",
       "50%         0.474194    0.379202              0.395785         0.361511   \n",
       "75%         0.627957    0.534664              0.580796         0.485612   \n",
       "max         1.000000    1.000000              1.000000         1.000000   \n",
       "\n",
       "       Color_Intensity         Hue       OD280     Proline  Customer_Segment  \n",
       "count       178.000000  178.000000  178.000000  178.000000        178.000000  \n",
       "mean          0.321499    0.387745    0.492126    0.334043          0.469101  \n",
       "std           0.197770    0.186046    0.259886    0.224862          0.387517  \n",
       "min           0.000000    0.000000    0.000000    0.000000          0.000000  \n",
       "25%           0.164694    0.245362    0.246114    0.157511          0.000000  \n",
       "50%           0.290927    0.394249    0.554404    0.281390          0.500000  \n",
       "75%           0.418146    0.519481    0.696891    0.504484          1.000000  \n",
       "max           1.000000    1.000000    1.000000    1.000000          1.000000  "
      ]
     },
     "execution_count": 75,
     "metadata": {},
     "output_type": "execute_result"
    }
   ],
   "source": [
    "data.describe()"
   ]
  },
  {
   "cell_type": "markdown",
   "id": "2f23cb46-a14c-481c-9a7f-f2a1328464c5",
   "metadata": {},
   "source": [
    "**Same result using library instead of doing 'manually'**"
   ]
  },
  {
   "cell_type": "markdown",
   "id": "c323135f-249b-4f5a-90c3-aaafb1732ff2",
   "metadata": {},
   "source": [
    "**Normalizing the data using StandardScaler**"
   ]
  },
  {
   "cell_type": "raw",
   "id": "d2354c9e-0926-480e-a8b2-063b368cfd5a",
   "metadata": {},
   "source": [
    "##The StandardScaler do the normalization using the mean of each attribute devided for std"
   ]
  },
  {
   "cell_type": "code",
   "execution_count": 62,
   "id": "a2878416-37e3-44e0-adad-9dc15ffccb3e",
   "metadata": {},
   "outputs": [],
   "source": [
    "##standard_scaler = preprocessing.StandardScaler()"
   ]
  },
  {
   "cell_type": "code",
   "execution_count": 66,
   "id": "91a4014e-99d9-4c28-a989-138aaaff8497",
   "metadata": {},
   "outputs": [],
   "source": [
    "##np_df = standard_scaler.fit_transform(data).round(2)"
   ]
  },
  {
   "cell_type": "code",
   "execution_count": 67,
   "id": "9f5db2bf-f792-41f7-9794-60810c5853f5",
   "metadata": {},
   "outputs": [],
   "source": [
    "##data = pd.DataFrame(np_df, columns = atributes)"
   ]
  },
  {
   "cell_type": "code",
   "execution_count": 68,
   "id": "34379d0d-e537-44a4-ad74-543746f29396",
   "metadata": {},
   "outputs": [
    {
     "data": {
      "text/html": [
       "<div>\n",
       "<style scoped>\n",
       "    .dataframe tbody tr th:only-of-type {\n",
       "        vertical-align: middle;\n",
       "    }\n",
       "\n",
       "    .dataframe tbody tr th {\n",
       "        vertical-align: top;\n",
       "    }\n",
       "\n",
       "    .dataframe thead th {\n",
       "        text-align: right;\n",
       "    }\n",
       "</style>\n",
       "<table border=\"1\" class=\"dataframe\">\n",
       "  <thead>\n",
       "    <tr style=\"text-align: right;\">\n",
       "      <th></th>\n",
       "      <th>Alcohol</th>\n",
       "      <th>Malic_Acid</th>\n",
       "      <th>Ash</th>\n",
       "      <th>Ash_Alcanity</th>\n",
       "      <th>Magnesium</th>\n",
       "      <th>Total_Phenols</th>\n",
       "      <th>Flavanoids</th>\n",
       "      <th>Nonflavanoid_Phenols</th>\n",
       "      <th>Proanthocyanins</th>\n",
       "      <th>Color_Intensity</th>\n",
       "      <th>Hue</th>\n",
       "      <th>OD280</th>\n",
       "      <th>Proline</th>\n",
       "      <th>Customer_Segment</th>\n",
       "    </tr>\n",
       "  </thead>\n",
       "  <tbody>\n",
       "    <tr>\n",
       "      <th>count</th>\n",
       "      <td>178.000000</td>\n",
       "      <td>178.000000</td>\n",
       "      <td>178.000000</td>\n",
       "      <td>178.000000</td>\n",
       "      <td>178.000000</td>\n",
       "      <td>178.000000</td>\n",
       "      <td>178.000000</td>\n",
       "      <td>178.000000</td>\n",
       "      <td>178.000000</td>\n",
       "      <td>1.780000e+02</td>\n",
       "      <td>178.000000</td>\n",
       "      <td>178.000000</td>\n",
       "      <td>178.000000</td>\n",
       "      <td>178.000000</td>\n",
       "    </tr>\n",
       "    <tr>\n",
       "      <th>mean</th>\n",
       "      <td>-0.000225</td>\n",
       "      <td>0.000281</td>\n",
       "      <td>0.000225</td>\n",
       "      <td>-0.001517</td>\n",
       "      <td>0.001067</td>\n",
       "      <td>0.000955</td>\n",
       "      <td>-0.000112</td>\n",
       "      <td>-0.000112</td>\n",
       "      <td>0.000056</td>\n",
       "      <td>-7.734138e-17</td>\n",
       "      <td>-0.000056</td>\n",
       "      <td>-0.000393</td>\n",
       "      <td>-0.000169</td>\n",
       "      <td>0.000281</td>\n",
       "    </tr>\n",
       "    <tr>\n",
       "      <th>std</th>\n",
       "      <td>1.003369</td>\n",
       "      <td>1.002726</td>\n",
       "      <td>1.002934</td>\n",
       "      <td>1.001869</td>\n",
       "      <td>1.002108</td>\n",
       "      <td>1.002647</td>\n",
       "      <td>1.002258</td>\n",
       "      <td>1.002359</td>\n",
       "      <td>1.002950</td>\n",
       "      <td>1.002696e+00</td>\n",
       "      <td>1.002786</td>\n",
       "      <td>1.003162</td>\n",
       "      <td>1.002884</td>\n",
       "      <td>0.999795</td>\n",
       "    </tr>\n",
       "    <tr>\n",
       "      <th>min</th>\n",
       "      <td>-2.430000</td>\n",
       "      <td>-1.430000</td>\n",
       "      <td>-3.680000</td>\n",
       "      <td>-2.670000</td>\n",
       "      <td>-2.090000</td>\n",
       "      <td>-2.110000</td>\n",
       "      <td>-1.700000</td>\n",
       "      <td>-1.870000</td>\n",
       "      <td>-2.070000</td>\n",
       "      <td>-1.630000e+00</td>\n",
       "      <td>-2.090000</td>\n",
       "      <td>-1.900000</td>\n",
       "      <td>-1.490000</td>\n",
       "      <td>-1.210000</td>\n",
       "    </tr>\n",
       "    <tr>\n",
       "      <th>25%</th>\n",
       "      <td>-0.787500</td>\n",
       "      <td>-0.657500</td>\n",
       "      <td>-0.570000</td>\n",
       "      <td>-0.690000</td>\n",
       "      <td>-0.820000</td>\n",
       "      <td>-0.885000</td>\n",
       "      <td>-0.825000</td>\n",
       "      <td>-0.740000</td>\n",
       "      <td>-0.600000</td>\n",
       "      <td>-7.950000e-01</td>\n",
       "      <td>-0.767500</td>\n",
       "      <td>-0.950000</td>\n",
       "      <td>-0.787500</td>\n",
       "      <td>-1.210000</td>\n",
       "    </tr>\n",
       "    <tr>\n",
       "      <th>50%</th>\n",
       "      <td>0.060000</td>\n",
       "      <td>-0.425000</td>\n",
       "      <td>-0.020000</td>\n",
       "      <td>0.000000</td>\n",
       "      <td>-0.120000</td>\n",
       "      <td>0.095000</td>\n",
       "      <td>0.105000</td>\n",
       "      <td>-0.180000</td>\n",
       "      <td>-0.060000</td>\n",
       "      <td>-1.550000e-01</td>\n",
       "      <td>0.035000</td>\n",
       "      <td>0.240000</td>\n",
       "      <td>-0.235000</td>\n",
       "      <td>0.080000</td>\n",
       "    </tr>\n",
       "    <tr>\n",
       "      <th>75%</th>\n",
       "      <td>0.837500</td>\n",
       "      <td>0.672500</td>\n",
       "      <td>0.700000</td>\n",
       "      <td>0.600000</td>\n",
       "      <td>0.510000</td>\n",
       "      <td>0.810000</td>\n",
       "      <td>0.845000</td>\n",
       "      <td>0.610000</td>\n",
       "      <td>0.630000</td>\n",
       "      <td>4.900000e-01</td>\n",
       "      <td>0.710000</td>\n",
       "      <td>0.790000</td>\n",
       "      <td>0.760000</td>\n",
       "      <td>1.370000</td>\n",
       "    </tr>\n",
       "    <tr>\n",
       "      <th>max</th>\n",
       "      <td>2.260000</td>\n",
       "      <td>3.110000</td>\n",
       "      <td>3.160000</td>\n",
       "      <td>3.150000</td>\n",
       "      <td>4.370000</td>\n",
       "      <td>2.540000</td>\n",
       "      <td>3.060000</td>\n",
       "      <td>2.400000</td>\n",
       "      <td>3.490000</td>\n",
       "      <td>3.440000e+00</td>\n",
       "      <td>3.300000</td>\n",
       "      <td>1.960000</td>\n",
       "      <td>2.970000</td>\n",
       "      <td>1.370000</td>\n",
       "    </tr>\n",
       "  </tbody>\n",
       "</table>\n",
       "</div>"
      ],
      "text/plain": [
       "          Alcohol  Malic_Acid         Ash  Ash_Alcanity   Magnesium  \\\n",
       "count  178.000000  178.000000  178.000000    178.000000  178.000000   \n",
       "mean    -0.000225    0.000281    0.000225     -0.001517    0.001067   \n",
       "std      1.003369    1.002726    1.002934      1.001869    1.002108   \n",
       "min     -2.430000   -1.430000   -3.680000     -2.670000   -2.090000   \n",
       "25%     -0.787500   -0.657500   -0.570000     -0.690000   -0.820000   \n",
       "50%      0.060000   -0.425000   -0.020000      0.000000   -0.120000   \n",
       "75%      0.837500    0.672500    0.700000      0.600000    0.510000   \n",
       "max      2.260000    3.110000    3.160000      3.150000    4.370000   \n",
       "\n",
       "       Total_Phenols  Flavanoids  Nonflavanoid_Phenols  Proanthocyanins  \\\n",
       "count     178.000000  178.000000            178.000000       178.000000   \n",
       "mean        0.000955   -0.000112             -0.000112         0.000056   \n",
       "std         1.002647    1.002258              1.002359         1.002950   \n",
       "min        -2.110000   -1.700000             -1.870000        -2.070000   \n",
       "25%        -0.885000   -0.825000             -0.740000        -0.600000   \n",
       "50%         0.095000    0.105000             -0.180000        -0.060000   \n",
       "75%         0.810000    0.845000              0.610000         0.630000   \n",
       "max         2.540000    3.060000              2.400000         3.490000   \n",
       "\n",
       "       Color_Intensity         Hue       OD280     Proline  Customer_Segment  \n",
       "count     1.780000e+02  178.000000  178.000000  178.000000        178.000000  \n",
       "mean     -7.734138e-17   -0.000056   -0.000393   -0.000169          0.000281  \n",
       "std       1.002696e+00    1.002786    1.003162    1.002884          0.999795  \n",
       "min      -1.630000e+00   -2.090000   -1.900000   -1.490000         -1.210000  \n",
       "25%      -7.950000e-01   -0.767500   -0.950000   -0.787500         -1.210000  \n",
       "50%      -1.550000e-01    0.035000    0.240000   -0.235000          0.080000  \n",
       "75%       4.900000e-01    0.710000    0.790000    0.760000          1.370000  \n",
       "max       3.440000e+00    3.300000    1.960000    2.970000          1.370000  "
      ]
     },
     "execution_count": 68,
     "metadata": {},
     "output_type": "execute_result"
    }
   ],
   "source": [
    "##data.describe()"
   ]
  },
  {
   "cell_type": "markdown",
   "id": "9cd5c6af-c4ee-4f41-a2de-2d0dc5873958",
   "metadata": {},
   "source": [
    "### <font color='orange'>Clustering using K-Means </font>\n",
    "<hr style='border: 1px solid orange;'>"
   ]
  },
  {
   "cell_type": "code",
   "execution_count": 93,
   "id": "78241c0d-2641-4749-b46a-228686ac91fc",
   "metadata": {},
   "outputs": [],
   "source": [
    "from sklearn.cluster import KMeans"
   ]
  },
  {
   "cell_type": "code",
   "execution_count": 94,
   "id": "caef7fa4-b7e4-435e-a50b-35df8249fdd1",
   "metadata": {},
   "outputs": [
    {
     "data": {
      "text/html": [
       "<div>\n",
       "<style scoped>\n",
       "    .dataframe tbody tr th:only-of-type {\n",
       "        vertical-align: middle;\n",
       "    }\n",
       "\n",
       "    .dataframe tbody tr th {\n",
       "        vertical-align: top;\n",
       "    }\n",
       "\n",
       "    .dataframe thead th {\n",
       "        text-align: right;\n",
       "    }\n",
       "</style>\n",
       "<table border=\"1\" class=\"dataframe\">\n",
       "  <thead>\n",
       "    <tr style=\"text-align: right;\">\n",
       "      <th></th>\n",
       "      <th>Alcohol</th>\n",
       "      <th>Malic_Acid</th>\n",
       "      <th>Ash</th>\n",
       "      <th>Ash_Alcanity</th>\n",
       "      <th>Magnesium</th>\n",
       "      <th>Total_Phenols</th>\n",
       "      <th>Flavanoids</th>\n",
       "      <th>Nonflavanoid_Phenols</th>\n",
       "      <th>Proanthocyanins</th>\n",
       "      <th>Color_Intensity</th>\n",
       "      <th>Hue</th>\n",
       "      <th>OD280</th>\n",
       "      <th>Proline</th>\n",
       "      <th>Customer_Segment</th>\n",
       "    </tr>\n",
       "  </thead>\n",
       "  <tbody>\n",
       "    <tr>\n",
       "      <th>count</th>\n",
       "      <td>178.000000</td>\n",
       "      <td>178.000000</td>\n",
       "      <td>178.000000</td>\n",
       "      <td>178.000000</td>\n",
       "      <td>178.000000</td>\n",
       "      <td>178.000000</td>\n",
       "      <td>178.000000</td>\n",
       "      <td>178.000000</td>\n",
       "      <td>178.000000</td>\n",
       "      <td>178.000000</td>\n",
       "      <td>178.000000</td>\n",
       "      <td>178.000000</td>\n",
       "      <td>178.000000</td>\n",
       "      <td>178.000000</td>\n",
       "    </tr>\n",
       "    <tr>\n",
       "      <th>mean</th>\n",
       "      <td>0.518076</td>\n",
       "      <td>0.315040</td>\n",
       "      <td>0.538045</td>\n",
       "      <td>0.458502</td>\n",
       "      <td>0.323695</td>\n",
       "      <td>0.453969</td>\n",
       "      <td>0.357119</td>\n",
       "      <td>0.437913</td>\n",
       "      <td>0.372312</td>\n",
       "      <td>0.321499</td>\n",
       "      <td>0.387745</td>\n",
       "      <td>0.492126</td>\n",
       "      <td>0.334043</td>\n",
       "      <td>0.469101</td>\n",
       "    </tr>\n",
       "    <tr>\n",
       "      <th>std</th>\n",
       "      <td>0.213938</td>\n",
       "      <td>0.220865</td>\n",
       "      <td>0.146628</td>\n",
       "      <td>0.172142</td>\n",
       "      <td>0.155125</td>\n",
       "      <td>0.215623</td>\n",
       "      <td>0.210558</td>\n",
       "      <td>0.234745</td>\n",
       "      <td>0.180387</td>\n",
       "      <td>0.197770</td>\n",
       "      <td>0.186046</td>\n",
       "      <td>0.259886</td>\n",
       "      <td>0.224862</td>\n",
       "      <td>0.387517</td>\n",
       "    </tr>\n",
       "    <tr>\n",
       "      <th>min</th>\n",
       "      <td>0.000000</td>\n",
       "      <td>0.000000</td>\n",
       "      <td>0.000000</td>\n",
       "      <td>0.000000</td>\n",
       "      <td>0.000000</td>\n",
       "      <td>0.000000</td>\n",
       "      <td>0.000000</td>\n",
       "      <td>0.000000</td>\n",
       "      <td>0.000000</td>\n",
       "      <td>0.000000</td>\n",
       "      <td>0.000000</td>\n",
       "      <td>0.000000</td>\n",
       "      <td>0.000000</td>\n",
       "      <td>0.000000</td>\n",
       "    </tr>\n",
       "    <tr>\n",
       "      <th>25%</th>\n",
       "      <td>0.350213</td>\n",
       "      <td>0.170154</td>\n",
       "      <td>0.454678</td>\n",
       "      <td>0.340206</td>\n",
       "      <td>0.196594</td>\n",
       "      <td>0.263441</td>\n",
       "      <td>0.183824</td>\n",
       "      <td>0.264637</td>\n",
       "      <td>0.264388</td>\n",
       "      <td>0.164694</td>\n",
       "      <td>0.245362</td>\n",
       "      <td>0.246114</td>\n",
       "      <td>0.157511</td>\n",
       "      <td>0.000000</td>\n",
       "    </tr>\n",
       "    <tr>\n",
       "      <th>50%</th>\n",
       "      <td>0.530917</td>\n",
       "      <td>0.221366</td>\n",
       "      <td>0.535088</td>\n",
       "      <td>0.458763</td>\n",
       "      <td>0.304954</td>\n",
       "      <td>0.474194</td>\n",
       "      <td>0.379202</td>\n",
       "      <td>0.395785</td>\n",
       "      <td>0.361511</td>\n",
       "      <td>0.290927</td>\n",
       "      <td>0.394249</td>\n",
       "      <td>0.554404</td>\n",
       "      <td>0.281390</td>\n",
       "      <td>0.500000</td>\n",
       "    </tr>\n",
       "    <tr>\n",
       "      <th>75%</th>\n",
       "      <td>0.696695</td>\n",
       "      <td>0.463106</td>\n",
       "      <td>0.640351</td>\n",
       "      <td>0.561856</td>\n",
       "      <td>0.402477</td>\n",
       "      <td>0.627957</td>\n",
       "      <td>0.534664</td>\n",
       "      <td>0.580796</td>\n",
       "      <td>0.485612</td>\n",
       "      <td>0.418146</td>\n",
       "      <td>0.519481</td>\n",
       "      <td>0.696891</td>\n",
       "      <td>0.504484</td>\n",
       "      <td>1.000000</td>\n",
       "    </tr>\n",
       "    <tr>\n",
       "      <th>max</th>\n",
       "      <td>1.000000</td>\n",
       "      <td>1.000000</td>\n",
       "      <td>1.000000</td>\n",
       "      <td>1.000000</td>\n",
       "      <td>1.000000</td>\n",
       "      <td>1.000000</td>\n",
       "      <td>1.000000</td>\n",
       "      <td>1.000000</td>\n",
       "      <td>1.000000</td>\n",
       "      <td>1.000000</td>\n",
       "      <td>1.000000</td>\n",
       "      <td>1.000000</td>\n",
       "      <td>1.000000</td>\n",
       "      <td>1.000000</td>\n",
       "    </tr>\n",
       "  </tbody>\n",
       "</table>\n",
       "</div>"
      ],
      "text/plain": [
       "          Alcohol  Malic_Acid         Ash  Ash_Alcanity   Magnesium  \\\n",
       "count  178.000000  178.000000  178.000000    178.000000  178.000000   \n",
       "mean     0.518076    0.315040    0.538045      0.458502    0.323695   \n",
       "std      0.213938    0.220865    0.146628      0.172142    0.155125   \n",
       "min      0.000000    0.000000    0.000000      0.000000    0.000000   \n",
       "25%      0.350213    0.170154    0.454678      0.340206    0.196594   \n",
       "50%      0.530917    0.221366    0.535088      0.458763    0.304954   \n",
       "75%      0.696695    0.463106    0.640351      0.561856    0.402477   \n",
       "max      1.000000    1.000000    1.000000      1.000000    1.000000   \n",
       "\n",
       "       Total_Phenols  Flavanoids  Nonflavanoid_Phenols  Proanthocyanins  \\\n",
       "count     178.000000  178.000000            178.000000       178.000000   \n",
       "mean        0.453969    0.357119              0.437913         0.372312   \n",
       "std         0.215623    0.210558              0.234745         0.180387   \n",
       "min         0.000000    0.000000              0.000000         0.000000   \n",
       "25%         0.263441    0.183824              0.264637         0.264388   \n",
       "50%         0.474194    0.379202              0.395785         0.361511   \n",
       "75%         0.627957    0.534664              0.580796         0.485612   \n",
       "max         1.000000    1.000000              1.000000         1.000000   \n",
       "\n",
       "       Color_Intensity         Hue       OD280     Proline  Customer_Segment  \n",
       "count       178.000000  178.000000  178.000000  178.000000        178.000000  \n",
       "mean          0.321499    0.387745    0.492126    0.334043          0.469101  \n",
       "std           0.197770    0.186046    0.259886    0.224862          0.387517  \n",
       "min           0.000000    0.000000    0.000000    0.000000          0.000000  \n",
       "25%           0.164694    0.245362    0.246114    0.157511          0.000000  \n",
       "50%           0.290927    0.394249    0.554404    0.281390          0.500000  \n",
       "75%           0.418146    0.519481    0.696891    0.504484          1.000000  \n",
       "max           1.000000    1.000000    1.000000    1.000000          1.000000  "
      ]
     },
     "execution_count": 94,
     "metadata": {},
     "output_type": "execute_result"
    }
   ],
   "source": [
    "data.describe()"
   ]
  },
  {
   "cell_type": "code",
   "execution_count": 95,
   "id": "7d903e00-35bd-46f4-91a9-958a9bacb572",
   "metadata": {},
   "outputs": [],
   "source": [
    "clust = KMeans(n_clusters = 4) #in this case the number 4 came from outside information of grups of consumers "
   ]
  },
  {
   "cell_type": "code",
   "execution_count": 96,
   "id": "611f506b-32c3-4af4-b2cf-abb9f1e20968",
   "metadata": {},
   "outputs": [
    {
     "data": {
      "text/html": [
       "<style>#sk-container-id-4 {color: black;background-color: white;}#sk-container-id-4 pre{padding: 0;}#sk-container-id-4 div.sk-toggleable {background-color: white;}#sk-container-id-4 label.sk-toggleable__label {cursor: pointer;display: block;width: 100%;margin-bottom: 0;padding: 0.3em;box-sizing: border-box;text-align: center;}#sk-container-id-4 label.sk-toggleable__label-arrow:before {content: \"▸\";float: left;margin-right: 0.25em;color: #696969;}#sk-container-id-4 label.sk-toggleable__label-arrow:hover:before {color: black;}#sk-container-id-4 div.sk-estimator:hover label.sk-toggleable__label-arrow:before {color: black;}#sk-container-id-4 div.sk-toggleable__content {max-height: 0;max-width: 0;overflow: hidden;text-align: left;background-color: #f0f8ff;}#sk-container-id-4 div.sk-toggleable__content pre {margin: 0.2em;color: black;border-radius: 0.25em;background-color: #f0f8ff;}#sk-container-id-4 input.sk-toggleable__control:checked~div.sk-toggleable__content {max-height: 200px;max-width: 100%;overflow: auto;}#sk-container-id-4 input.sk-toggleable__control:checked~label.sk-toggleable__label-arrow:before {content: \"▾\";}#sk-container-id-4 div.sk-estimator input.sk-toggleable__control:checked~label.sk-toggleable__label {background-color: #d4ebff;}#sk-container-id-4 div.sk-label input.sk-toggleable__control:checked~label.sk-toggleable__label {background-color: #d4ebff;}#sk-container-id-4 input.sk-hidden--visually {border: 0;clip: rect(1px 1px 1px 1px);clip: rect(1px, 1px, 1px, 1px);height: 1px;margin: -1px;overflow: hidden;padding: 0;position: absolute;width: 1px;}#sk-container-id-4 div.sk-estimator {font-family: monospace;background-color: #f0f8ff;border: 1px dotted black;border-radius: 0.25em;box-sizing: border-box;margin-bottom: 0.5em;}#sk-container-id-4 div.sk-estimator:hover {background-color: #d4ebff;}#sk-container-id-4 div.sk-parallel-item::after {content: \"\";width: 100%;border-bottom: 1px solid gray;flex-grow: 1;}#sk-container-id-4 div.sk-label:hover label.sk-toggleable__label {background-color: #d4ebff;}#sk-container-id-4 div.sk-serial::before {content: \"\";position: absolute;border-left: 1px solid gray;box-sizing: border-box;top: 0;bottom: 0;left: 50%;z-index: 0;}#sk-container-id-4 div.sk-serial {display: flex;flex-direction: column;align-items: center;background-color: white;padding-right: 0.2em;padding-left: 0.2em;position: relative;}#sk-container-id-4 div.sk-item {position: relative;z-index: 1;}#sk-container-id-4 div.sk-parallel {display: flex;align-items: stretch;justify-content: center;background-color: white;position: relative;}#sk-container-id-4 div.sk-item::before, #sk-container-id-4 div.sk-parallel-item::before {content: \"\";position: absolute;border-left: 1px solid gray;box-sizing: border-box;top: 0;bottom: 0;left: 50%;z-index: -1;}#sk-container-id-4 div.sk-parallel-item {display: flex;flex-direction: column;z-index: 1;position: relative;background-color: white;}#sk-container-id-4 div.sk-parallel-item:first-child::after {align-self: flex-end;width: 50%;}#sk-container-id-4 div.sk-parallel-item:last-child::after {align-self: flex-start;width: 50%;}#sk-container-id-4 div.sk-parallel-item:only-child::after {width: 0;}#sk-container-id-4 div.sk-dashed-wrapped {border: 1px dashed gray;margin: 0 0.4em 0.5em 0.4em;box-sizing: border-box;padding-bottom: 0.4em;background-color: white;}#sk-container-id-4 div.sk-label label {font-family: monospace;font-weight: bold;display: inline-block;line-height: 1.2em;}#sk-container-id-4 div.sk-label-container {text-align: center;}#sk-container-id-4 div.sk-container {/* jupyter's `normalize.less` sets `[hidden] { display: none; }` but bootstrap.min.css set `[hidden] { display: none !important; }` so we also need the `!important` here to be able to override the default hidden behavior on the sphinx rendered scikit-learn.org. See: https://github.com/scikit-learn/scikit-learn/issues/21755 */display: inline-block !important;position: relative;}#sk-container-id-4 div.sk-text-repr-fallback {display: none;}</style><div id=\"sk-container-id-4\" class=\"sk-top-container\"><div class=\"sk-text-repr-fallback\"><pre>KMeans(n_clusters=4)</pre><b>In a Jupyter environment, please rerun this cell to show the HTML representation or trust the notebook. <br />On GitHub, the HTML representation is unable to render, please try loading this page with nbviewer.org.</b></div><div class=\"sk-container\" hidden><div class=\"sk-item\"><div class=\"sk-estimator sk-toggleable\"><input class=\"sk-toggleable__control sk-hidden--visually\" id=\"sk-estimator-id-4\" type=\"checkbox\" checked><label for=\"sk-estimator-id-4\" class=\"sk-toggleable__label sk-toggleable__label-arrow\">KMeans</label><div class=\"sk-toggleable__content\"><pre>KMeans(n_clusters=4)</pre></div></div></div></div></div>"
      ],
      "text/plain": [
       "KMeans(n_clusters=4)"
      ]
     },
     "execution_count": 96,
     "metadata": {},
     "output_type": "execute_result"
    }
   ],
   "source": [
    "clust.fit(data)"
   ]
  },
  {
   "cell_type": "code",
   "execution_count": 97,
   "id": "1aec114f-45f7-46fb-a9a7-981a83166045",
   "metadata": {},
   "outputs": [],
   "source": [
    "# to check how the data were clustered "
   ]
  },
  {
   "cell_type": "code",
   "execution_count": 98,
   "id": "ca507026-6cb9-499d-9cf6-9dba6c5776a9",
   "metadata": {},
   "outputs": [],
   "source": [
    "labels = clust.labels_"
   ]
  },
  {
   "cell_type": "code",
   "execution_count": 99,
   "id": "e5ea65af-ae5e-4e64-aa92-d9c2f65f165b",
   "metadata": {},
   "outputs": [
    {
     "name": "stdout",
     "output_type": "stream",
     "text": [
      "[1 1 1 1 1 1 1 1 1 1 1 1 1 1 1 1 1 1 1 1 1 1 1 1 1 1 1 1 1 1 1 1 1 1 1 1 1\n",
      " 1 1 1 1 1 1 1 1 1 1 1 1 1 1 1 1 1 1 1 1 1 1 3 3 3 3 2 3 2 2 2 3 2 3 2 3 2\n",
      " 2 3 3 3 2 2 2 2 3 3 2 2 3 3 3 3 3 3 3 2 2 2 2 2 2 2 2 3 2 3 2 3 3 3 2 2 2\n",
      " 2 3 3 3 3 2 2 3 2 2 2 2 2 2 2 2 3 2 3 0 0 0 0 0 0 0 0 0 0 0 0 0 0 0 0 0 0\n",
      " 0 0 0 0 0 0 0 0 0 0 0 0 0 0 0 0 0 0 0 0 0 0 0 0 0 0 0 0 0 0]\n"
     ]
    }
   ],
   "source": [
    "print(labels)"
   ]
  },
  {
   "cell_type": "code",
   "execution_count": 100,
   "id": "b3a2226f-73a3-4f63-9727-c9c76ee87685",
   "metadata": {},
   "outputs": [
    {
     "data": {
      "application/vnd.plotly.v1+json": {
       "config": {
        "plotlyServerURL": "https://plot.ly"
       },
       "data": [
        {
         "marker": {
          "color": [
           1,
           1,
           1,
           1,
           1,
           1,
           1,
           1,
           1,
           1,
           1,
           1,
           1,
           1,
           1,
           1,
           1,
           1,
           1,
           1,
           1,
           1,
           1,
           1,
           1,
           1,
           1,
           1,
           1,
           1,
           1,
           1,
           1,
           1,
           1,
           1,
           1,
           1,
           1,
           1,
           1,
           1,
           1,
           1,
           1,
           1,
           1,
           1,
           1,
           1,
           1,
           1,
           1,
           1,
           1,
           1,
           1,
           1,
           1,
           3,
           3,
           3,
           3,
           2,
           3,
           2,
           2,
           2,
           3,
           2,
           3,
           2,
           3,
           2,
           2,
           3,
           3,
           3,
           2,
           2,
           2,
           2,
           3,
           3,
           2,
           2,
           3,
           3,
           3,
           3,
           3,
           3,
           3,
           2,
           2,
           2,
           2,
           2,
           2,
           2,
           2,
           3,
           2,
           3,
           2,
           3,
           3,
           3,
           2,
           2,
           2,
           2,
           3,
           3,
           3,
           3,
           2,
           2,
           3,
           2,
           2,
           2,
           2,
           2,
           2,
           2,
           2,
           3,
           2,
           3,
           0,
           0,
           0,
           0,
           0,
           0,
           0,
           0,
           0,
           0,
           0,
           0,
           0,
           0,
           0,
           0,
           0,
           0,
           0,
           0,
           0,
           0,
           0,
           0,
           0,
           0,
           0,
           0,
           0,
           0,
           0,
           0,
           0,
           0,
           0,
           0,
           0,
           0,
           0,
           0,
           0,
           0,
           0,
           0,
           0,
           0,
           0,
           0
          ]
         },
         "mode": "markers",
         "text": [
          "0",
          "1",
          "2"
         ],
         "type": "scatter3d",
         "x": [
          0.3708086785009861,
          0.26429980276134113,
          0.3747534516765285,
          0.5562130177514792,
          0.25838264299802755,
          0.4654832347140039,
          0.3372781065088757,
          0.32149901380670604,
          0.33333333333333326,
          0.5069033530571991,
          0.3806706114398421,
          0.31558185404339245,
          0.3668639053254437,
          0.35108481262327407,
          0.5305719921104536,
          0.5128205128205128,
          0.418145956607495,
          0.4536489151873766,
          0.6331360946745561,
          0.32544378698224846,
          0.3727810650887573,
          0.2741617357001972,
          0.21499013806706108,
          0.2248520710059171,
          0.18934911242603544,
          0.19526627218934905,
          0.2998027613412228,
          0.2268244575936883,
          0.2741617357001972,
          0.291913214990138,
          0.37672583826429973,
          0.47928994082840226,
          0.2169625246548323,
          0.35108481262327407,
          0.24852071005917153,
          0.32544378698224846,
          0.282051282051282,
          0.25246548323471396,
          0.20512820512820507,
          0.32544378698224846,
          0.41222879684418134,
          0.2544378698224851,
          0.3530571992110453,
          0.26232741617356997,
          0.3195266272189348,
          0.3372781065088757,
          0.3076923076923076,
          0.4102564102564102,
          0.418145956607495,
          0.6489151873767257,
          0.5049309664694279,
          0.3668639053254437,
          0.4911242603550295,
          0.428007889546351,
          0.38856015779092695,
          0.4240631163708086,
          0.4339250493096646,
          0.40236686390532533,
          0.46942800788954625,
          0.05719921104536485,
          0.1696252465483234,
          0.3806706114398421,
          0.21499013806706108,
          0.27021696252465477,
          0.14201183431952655,
          0.282051282051282,
          0.34122287968441806,
          0.2899408284023668,
          0.1597633136094674,
          0.13214990138067056,
          0.14990138067061137,
          0.17751479289940822,
          0.2090729783037475,
          0.175542406311637,
          0.16370808678500978,
          0.21499013806706108,
          0.282051282051282,
          0.11637080867850091,
          0.17948717948717943,
          0.10848126232741609,
          0.10256410256410248,
          0.22287968441814587,
          0.07692307692307687,
          0.2998027613412228,
          0.14990138067061137,
          0.11439842209072973,
          0.09861932938856013,
          0.11242603550295852,
          0.12820512820512814,
          0.03747534516765283,
          0.09467455621301771,
          0.19723865877712027,
          0.14990138067061137,
          0.07297830374753447,
          0.1676528599605522,
          0.11242603550295852,
          0.10256410256410248,
          0.13806706114398415,
          0.2741617357001972,
          0.08678500986193288,
          0.1715976331360946,
          0.09861932938856013,
          0.12820512820512814,
          0.06508875739644965,
          0.14003944773175536,
          0.12031558185404334,
          0.17948717948717943,
          0.1715976331360946,
          0.12031558185404334,
          0.11637080867850091,
          0.13806706114398415,
          0.06114398422090722,
          0.21499013806706108,
          0.15187376725838259,
          0.13806706114398415,
          0.05128205128205121,
          0.05719921104536485,
          0.06508875739644965,
          0.17948717948717943,
          0,
          0.1676528599605522,
          0.40236686390532533,
          0.06706114398422086,
          0.11242603550295852,
          0.12820512820512814,
          0.12623274161735695,
          0.2268244575936883,
          0.14595660749506897,
          0.07100591715976323,
          0.11242603550295852,
          0.24063116370808674,
          0.35108481262327407,
          0.37672583826429973,
          0.31558185404339245,
          0.3550295857988165,
          0.49506903353057186,
          0.21893491124260347,
          0.31558185404339245,
          0.37672583826429973,
          0.3096646942800788,
          0.282051282051282,
          0.3668639053254437,
          0.26035502958579876,
          0.26627218934911234,
          0.5897435897435896,
          0.2307692307692307,
          0.3076923076923076,
          0.5424063116370808,
          0.6074950690335305,
          0.6923076923076922,
          0.6232741617357,
          0.8106508875739644,
          0.49506903353057186,
          0.7869822485207099,
          0.5384615384615383,
          0.564102564102564,
          0.6587771203155817,
          0.5305719921104536,
          0.9999999999999998,
          0.8915187376725837,
          0.5424063116370808,
          0.3925049309664693,
          0.3668639053254437,
          0.34122287968441806,
          0.7080867850098618,
          0.4556213017751478,
          0.8007889546351084,
          0.7652859960552267,
          0.6291913214990137,
          0.6153846153846152,
          0.3589743589743589,
          0.7337278106508874,
          0.7179487179487178,
          0.5463510848126232,
          0.5128205128205128,
          0.7593688362919131,
          0.6824457593688362,
          0.6745562130177514
         ],
         "y": [
          0.8422174840085288,
          0.5714285714285715,
          0.5607675906183369,
          0.8784648187633264,
          0.5820895522388061,
          0.8336886993603412,
          0.884861407249467,
          0.7974413646055438,
          1,
          0.7441364605543711,
          0.8081023454157783,
          0.8123667377398721,
          0.7164179104477613,
          0.978678038379531,
          0.8805970149253732,
          0.6844349680170576,
          0.8614072494669511,
          0.7356076759061835,
          0.8315565031982943,
          0.6865671641791046,
          0.7974413646055438,
          0.49893390191897663,
          0.7057569296375268,
          0.4776119402985075,
          0.6503198294243071,
          0.5309168443496802,
          0.6204690831556504,
          0.5970149253731344,
          0.7462686567164181,
          0.7867803837953092,
          0.7100213219616205,
          0.6716417910447762,
          0.6972281449893392,
          0.7185501066098081,
          0.652452025586354,
          0.6439232409381663,
          0.5927505330490406,
          0.5309168443496802,
          0.537313432835821,
          0.840085287846482,
          0.6652452025586355,
          0.6268656716417911,
          0.7505330490405118,
          0.5820895522388061,
          0.5309168443496802,
          0.8358208955223881,
          0.8805970149253732,
          0.7547974413646057,
          0.8081023454157783,
          0.7654584221748402,
          0.5309168443496802,
          0.7356076759061835,
          0.7334754797441365,
          0.7206823027718551,
          0.7121535181236675,
          0.6652452025586355,
          0.840085287846482,
          0.5948827292110875,
          0.7078891257995736,
          0.3518123667377399,
          0.3411513859275054,
          0.42217484008528794,
          0.6950959488272922,
          0.3518123667377399,
          0.29850746268656725,
          0.3518123667377399,
          0.5479744136460555,
          0.3518123667377399,
          0.607675906183369,
          0.3091684434968017,
          0.33049040511727085,
          0.7441364605543711,
          0.6460554371002133,
          0.5159914712153518,
          0.24307036247334757,
          0.16417910447761197,
          0.5266524520255864,
          0.21321961620469088,
          0.3411513859275054,
          0.4392324093816632,
          0.25373134328358216,
          0.443496801705757,
          0.2750533049040512,
          0.5309168443496802,
          0.21321961620469088,
          0.43070362473347557,
          0.2963752665245203,
          0.16204690831556506,
          0.15991471215351816,
          0.2750533049040512,
          0.2750533049040512,
          0.25373134328358216,
          0.4371002132196163,
          0.33049040511727085,
          0.15351812366737744,
          0.37739872068230285,
          0.20469083155650325,
          0.33049040511727085,
          0.3518123667377399,
          0.33049040511727085,
          0.2750533049040512,
          0.41364605543710026,
          0.34328358208955234,
          0.20682302771855016,
          0.3880597014925374,
          0.3646055437100214,
          0.3198294243070363,
          0.443496801705757,
          0.3134328358208956,
          0.15138592750533053,
          0.11300639658848621,
          0.3923240938166312,
          0.1918976545842218,
          0.10021321961620472,
          0.2750533049040512,
          0,
          0.20682302771855016,
          0.3646055437100214,
          0.45842217484008535,
          0.25373134328358216,
          0.1087420042643924,
          0.1385927505330491,
          0.3646055437100214,
          0.5309168443496802,
          0.2196162046908316,
          0.27292110874200437,
          0.3688699360341152,
          0.19829424307036253,
          0.3518123667377399,
          0.2643923240938167,
          0.4818763326226013,
          0.48614072494669514,
          0.466950959488273,
          0.4392324093816632,
          0.3880597014925374,
          0.41364605543710026,
          0.3198294243070363,
          0.3944562899786781,
          0.6460554371002133,
          0.4754797441364606,
          0.49893390191897663,
          0.6119402985074628,
          0.6545842217484009,
          0.6823027718550108,
          0.3198294243070363,
          0.5607675906183369,
          0.7505330490405118,
          0.48400852878464823,
          0.6012793176972282,
          0.5394456289978679,
          0.6503198294243071,
          0.46268656716417916,
          0.5479744136460555,
          0.5778251599147123,
          0.40724946695095954,
          0.5628997867803839,
          0.7398720682302773,
          0.37313432835820903,
          0.8699360341151386,
          0.6439232409381663,
          0.349680170575693,
          0.699360341151386,
          0.4776119402985075,
          0.5074626865671642,
          0.722814498933902,
          0.7100213219616205,
          0.6375266524520257,
          0.4712153518123668,
          0.6716417910447762,
          0.6226012793176973,
          0.3070362473347549,
          0.45842217484008535,
          0.8230277185501067,
          0.7057569296375268,
          0.6226012793176973,
          0.5884861407249468,
          0.5628997867803839,
          0.8166311300639659
         ],
         "z": [
          0.5716374269005847,
          0.41666666666666663,
          0.7002923976608186,
          0.6096491228070176,
          0.8070175438596491,
          0.5833333333333333,
          0.5833333333333333,
          0.6681286549707602,
          0.4327485380116959,
          0.48684210526315785,
          0.5029239766081871,
          0.513157894736842,
          0.5614035087719298,
          0.5511695906432749,
          0.5453216374269005,
          0.7163742690058479,
          0.7266081871345029,
          0.6739766081871345,
          0.597953216374269,
          0.641812865497076,
          0.49122807017543857,
          0.6900584795321637,
          0.5350877192982456,
          0.6198830409356725,
          0.6681286549707602,
          0.9941520467836257,
          0.6739766081871345,
          0.41666666666666663,
          0.7690058479532164,
          0.4546783625730994,
          0.7163742690058479,
          0.5350877192982456,
          0.5350877192982456,
          0.7163742690058479,
          0.6900584795321637,
          0.5614035087719298,
          0.7909356725146198,
          0.6359649122807017,
          0.3961988304093567,
          0.6140350877192982,
          0.5073099415204678,
          0.4064327485380117,
          0.6578947368421052,
          0.49707602339181284,
          0.3961988304093567,
          0.577485380116959,
          0.49122807017543857,
          0.4064327485380117,
          0.5555555555555556,
          0.48684210526315785,
          0.36403508771929827,
          0.6622807017543859,
          0.567251461988304,
          0.706140350877193,
          0.4751461988304093,
          0.587719298245614,
          0.5029239766081871,
          0.706140350877193,
          0.6096491228070176,
          0,
          0.49122807017543857,
          0.3523391812865497,
          0.29970760233918126,
          0.42836257309941517,
          0.6257309941520468,
          0.641812865497076,
          0.18128654970760233,
          0.29970760233918126,
          0.5350877192982456,
          0.20906432748538012,
          0.4546783625730994,
          0.7002923976608186,
          0.4707602339181286,
          0.6622807017543859,
          0.5029239766081871,
          0.29970760233918126,
          0.1871345029239766,
          0.4649122807017544,
          0.3157894736842105,
          0.5555555555555556,
          0.3421052631578947,
          0.44883040935672514,
          0.6140350877192982,
          0.513157894736842,
          0.652046783625731,
          0.4707602339181286,
          0.5073099415204678,
          0.6739766081871345,
          0.587719298245614,
          0.5029239766081871,
          0.513157894736842,
          0.567251461988304,
          0.4809941520467836,
          0.45906432748538006,
          0.49122807017543857,
          0.44883040935672514,
          0.7383040935672515,
          0.33187134502923976,
          0.3961988304093567,
          0.4546783625730994,
          0.18128654970760233,
          0.2880116959064327,
          0.587719298245614,
          0.27777777777777773,
          0.33187134502923976,
          0.48684210526315785,
          0.4064327485380117,
          0.49122807017543857,
          0.30994152046783624,
          0.7163742690058479,
          0.24561403508771928,
          0.4327485380116959,
          0.8333333333333333,
          0.6096491228070176,
          0.6096491228070176,
          0.44883040935672514,
          0.3362573099415205,
          0.44298245614035087,
          0.33187134502923976,
          0.3421052631578947,
          0.567251461988304,
          1,
          0.7324561403508771,
          0.4122807017543859,
          0.5511695906432749,
          0.4327485380116959,
          0.49707602339181284,
          0.7587719298245614,
          0.5029239766081871,
          0.5453216374269005,
          0.513157894736842,
          0.5555555555555556,
          0.5555555555555556,
          0.5350877192982456,
          0.4751461988304093,
          0.44883040935672514,
          0.6301169590643274,
          0.6842105263157894,
          0.44298245614035087,
          0.6681286549707602,
          0.7163742690058479,
          0.5292397660818713,
          0.7266081871345029,
          0.5292397660818713,
          0.44883040935672514,
          0.4225146198830409,
          0.4649122807017544,
          0.597953216374269,
          0.5453216374269005,
          0.5350877192982456,
          0.6739766081871345,
          0.597953216374269,
          0.7426900584795322,
          0.49122807017543857,
          0.3961988304093567,
          0.513157894736842,
          0.5453216374269005,
          0.6842105263157894,
          0.7163742690058479,
          0.6842105263157894,
          0.5453216374269005,
          0.6301169590643274,
          0.652046783625731,
          0.5292397660818713,
          0.5029239766081871,
          0.4809941520467836,
          0.6622807017543859,
          0.5029239766081871,
          0.7105263157894737,
          0.8011695906432748,
          0.513157894736842,
          0.49122807017543857,
          0.597953216374269,
          0.5833333333333333,
          0.597953216374269,
          0.4809941520467836,
          0.5394736842105263,
          0.7383040935672515
         ]
        }
       ],
       "layout": {
        "template": {
         "data": {
          "bar": [
           {
            "error_x": {
             "color": "#2a3f5f"
            },
            "error_y": {
             "color": "#2a3f5f"
            },
            "marker": {
             "line": {
              "color": "#E5ECF6",
              "width": 0.5
             },
             "pattern": {
              "fillmode": "overlay",
              "size": 10,
              "solidity": 0.2
             }
            },
            "type": "bar"
           }
          ],
          "barpolar": [
           {
            "marker": {
             "line": {
              "color": "#E5ECF6",
              "width": 0.5
             },
             "pattern": {
              "fillmode": "overlay",
              "size": 10,
              "solidity": 0.2
             }
            },
            "type": "barpolar"
           }
          ],
          "carpet": [
           {
            "aaxis": {
             "endlinecolor": "#2a3f5f",
             "gridcolor": "white",
             "linecolor": "white",
             "minorgridcolor": "white",
             "startlinecolor": "#2a3f5f"
            },
            "baxis": {
             "endlinecolor": "#2a3f5f",
             "gridcolor": "white",
             "linecolor": "white",
             "minorgridcolor": "white",
             "startlinecolor": "#2a3f5f"
            },
            "type": "carpet"
           }
          ],
          "choropleth": [
           {
            "colorbar": {
             "outlinewidth": 0,
             "ticks": ""
            },
            "type": "choropleth"
           }
          ],
          "contour": [
           {
            "colorbar": {
             "outlinewidth": 0,
             "ticks": ""
            },
            "colorscale": [
             [
              0,
              "#0d0887"
             ],
             [
              0.1111111111111111,
              "#46039f"
             ],
             [
              0.2222222222222222,
              "#7201a8"
             ],
             [
              0.3333333333333333,
              "#9c179e"
             ],
             [
              0.4444444444444444,
              "#bd3786"
             ],
             [
              0.5555555555555556,
              "#d8576b"
             ],
             [
              0.6666666666666666,
              "#ed7953"
             ],
             [
              0.7777777777777778,
              "#fb9f3a"
             ],
             [
              0.8888888888888888,
              "#fdca26"
             ],
             [
              1,
              "#f0f921"
             ]
            ],
            "type": "contour"
           }
          ],
          "contourcarpet": [
           {
            "colorbar": {
             "outlinewidth": 0,
             "ticks": ""
            },
            "type": "contourcarpet"
           }
          ],
          "heatmap": [
           {
            "colorbar": {
             "outlinewidth": 0,
             "ticks": ""
            },
            "colorscale": [
             [
              0,
              "#0d0887"
             ],
             [
              0.1111111111111111,
              "#46039f"
             ],
             [
              0.2222222222222222,
              "#7201a8"
             ],
             [
              0.3333333333333333,
              "#9c179e"
             ],
             [
              0.4444444444444444,
              "#bd3786"
             ],
             [
              0.5555555555555556,
              "#d8576b"
             ],
             [
              0.6666666666666666,
              "#ed7953"
             ],
             [
              0.7777777777777778,
              "#fb9f3a"
             ],
             [
              0.8888888888888888,
              "#fdca26"
             ],
             [
              1,
              "#f0f921"
             ]
            ],
            "type": "heatmap"
           }
          ],
          "heatmapgl": [
           {
            "colorbar": {
             "outlinewidth": 0,
             "ticks": ""
            },
            "colorscale": [
             [
              0,
              "#0d0887"
             ],
             [
              0.1111111111111111,
              "#46039f"
             ],
             [
              0.2222222222222222,
              "#7201a8"
             ],
             [
              0.3333333333333333,
              "#9c179e"
             ],
             [
              0.4444444444444444,
              "#bd3786"
             ],
             [
              0.5555555555555556,
              "#d8576b"
             ],
             [
              0.6666666666666666,
              "#ed7953"
             ],
             [
              0.7777777777777778,
              "#fb9f3a"
             ],
             [
              0.8888888888888888,
              "#fdca26"
             ],
             [
              1,
              "#f0f921"
             ]
            ],
            "type": "heatmapgl"
           }
          ],
          "histogram": [
           {
            "marker": {
             "pattern": {
              "fillmode": "overlay",
              "size": 10,
              "solidity": 0.2
             }
            },
            "type": "histogram"
           }
          ],
          "histogram2d": [
           {
            "colorbar": {
             "outlinewidth": 0,
             "ticks": ""
            },
            "colorscale": [
             [
              0,
              "#0d0887"
             ],
             [
              0.1111111111111111,
              "#46039f"
             ],
             [
              0.2222222222222222,
              "#7201a8"
             ],
             [
              0.3333333333333333,
              "#9c179e"
             ],
             [
              0.4444444444444444,
              "#bd3786"
             ],
             [
              0.5555555555555556,
              "#d8576b"
             ],
             [
              0.6666666666666666,
              "#ed7953"
             ],
             [
              0.7777777777777778,
              "#fb9f3a"
             ],
             [
              0.8888888888888888,
              "#fdca26"
             ],
             [
              1,
              "#f0f921"
             ]
            ],
            "type": "histogram2d"
           }
          ],
          "histogram2dcontour": [
           {
            "colorbar": {
             "outlinewidth": 0,
             "ticks": ""
            },
            "colorscale": [
             [
              0,
              "#0d0887"
             ],
             [
              0.1111111111111111,
              "#46039f"
             ],
             [
              0.2222222222222222,
              "#7201a8"
             ],
             [
              0.3333333333333333,
              "#9c179e"
             ],
             [
              0.4444444444444444,
              "#bd3786"
             ],
             [
              0.5555555555555556,
              "#d8576b"
             ],
             [
              0.6666666666666666,
              "#ed7953"
             ],
             [
              0.7777777777777778,
              "#fb9f3a"
             ],
             [
              0.8888888888888888,
              "#fdca26"
             ],
             [
              1,
              "#f0f921"
             ]
            ],
            "type": "histogram2dcontour"
           }
          ],
          "mesh3d": [
           {
            "colorbar": {
             "outlinewidth": 0,
             "ticks": ""
            },
            "type": "mesh3d"
           }
          ],
          "parcoords": [
           {
            "line": {
             "colorbar": {
              "outlinewidth": 0,
              "ticks": ""
             }
            },
            "type": "parcoords"
           }
          ],
          "pie": [
           {
            "automargin": true,
            "type": "pie"
           }
          ],
          "scatter": [
           {
            "fillpattern": {
             "fillmode": "overlay",
             "size": 10,
             "solidity": 0.2
            },
            "type": "scatter"
           }
          ],
          "scatter3d": [
           {
            "line": {
             "colorbar": {
              "outlinewidth": 0,
              "ticks": ""
             }
            },
            "marker": {
             "colorbar": {
              "outlinewidth": 0,
              "ticks": ""
             }
            },
            "type": "scatter3d"
           }
          ],
          "scattercarpet": [
           {
            "marker": {
             "colorbar": {
              "outlinewidth": 0,
              "ticks": ""
             }
            },
            "type": "scattercarpet"
           }
          ],
          "scattergeo": [
           {
            "marker": {
             "colorbar": {
              "outlinewidth": 0,
              "ticks": ""
             }
            },
            "type": "scattergeo"
           }
          ],
          "scattergl": [
           {
            "marker": {
             "colorbar": {
              "outlinewidth": 0,
              "ticks": ""
             }
            },
            "type": "scattergl"
           }
          ],
          "scattermapbox": [
           {
            "marker": {
             "colorbar": {
              "outlinewidth": 0,
              "ticks": ""
             }
            },
            "type": "scattermapbox"
           }
          ],
          "scatterpolar": [
           {
            "marker": {
             "colorbar": {
              "outlinewidth": 0,
              "ticks": ""
             }
            },
            "type": "scatterpolar"
           }
          ],
          "scatterpolargl": [
           {
            "marker": {
             "colorbar": {
              "outlinewidth": 0,
              "ticks": ""
             }
            },
            "type": "scatterpolargl"
           }
          ],
          "scatterternary": [
           {
            "marker": {
             "colorbar": {
              "outlinewidth": 0,
              "ticks": ""
             }
            },
            "type": "scatterternary"
           }
          ],
          "surface": [
           {
            "colorbar": {
             "outlinewidth": 0,
             "ticks": ""
            },
            "colorscale": [
             [
              0,
              "#0d0887"
             ],
             [
              0.1111111111111111,
              "#46039f"
             ],
             [
              0.2222222222222222,
              "#7201a8"
             ],
             [
              0.3333333333333333,
              "#9c179e"
             ],
             [
              0.4444444444444444,
              "#bd3786"
             ],
             [
              0.5555555555555556,
              "#d8576b"
             ],
             [
              0.6666666666666666,
              "#ed7953"
             ],
             [
              0.7777777777777778,
              "#fb9f3a"
             ],
             [
              0.8888888888888888,
              "#fdca26"
             ],
             [
              1,
              "#f0f921"
             ]
            ],
            "type": "surface"
           }
          ],
          "table": [
           {
            "cells": {
             "fill": {
              "color": "#EBF0F8"
             },
             "line": {
              "color": "white"
             }
            },
            "header": {
             "fill": {
              "color": "#C8D4E3"
             },
             "line": {
              "color": "white"
             }
            },
            "type": "table"
           }
          ]
         },
         "layout": {
          "annotationdefaults": {
           "arrowcolor": "#2a3f5f",
           "arrowhead": 0,
           "arrowwidth": 1
          },
          "autotypenumbers": "strict",
          "coloraxis": {
           "colorbar": {
            "outlinewidth": 0,
            "ticks": ""
           }
          },
          "colorscale": {
           "diverging": [
            [
             0,
             "#8e0152"
            ],
            [
             0.1,
             "#c51b7d"
            ],
            [
             0.2,
             "#de77ae"
            ],
            [
             0.3,
             "#f1b6da"
            ],
            [
             0.4,
             "#fde0ef"
            ],
            [
             0.5,
             "#f7f7f7"
            ],
            [
             0.6,
             "#e6f5d0"
            ],
            [
             0.7,
             "#b8e186"
            ],
            [
             0.8,
             "#7fbc41"
            ],
            [
             0.9,
             "#4d9221"
            ],
            [
             1,
             "#276419"
            ]
           ],
           "sequential": [
            [
             0,
             "#0d0887"
            ],
            [
             0.1111111111111111,
             "#46039f"
            ],
            [
             0.2222222222222222,
             "#7201a8"
            ],
            [
             0.3333333333333333,
             "#9c179e"
            ],
            [
             0.4444444444444444,
             "#bd3786"
            ],
            [
             0.5555555555555556,
             "#d8576b"
            ],
            [
             0.6666666666666666,
             "#ed7953"
            ],
            [
             0.7777777777777778,
             "#fb9f3a"
            ],
            [
             0.8888888888888888,
             "#fdca26"
            ],
            [
             1,
             "#f0f921"
            ]
           ],
           "sequentialminus": [
            [
             0,
             "#0d0887"
            ],
            [
             0.1111111111111111,
             "#46039f"
            ],
            [
             0.2222222222222222,
             "#7201a8"
            ],
            [
             0.3333333333333333,
             "#9c179e"
            ],
            [
             0.4444444444444444,
             "#bd3786"
            ],
            [
             0.5555555555555556,
             "#d8576b"
            ],
            [
             0.6666666666666666,
             "#ed7953"
            ],
            [
             0.7777777777777778,
             "#fb9f3a"
            ],
            [
             0.8888888888888888,
             "#fdca26"
            ],
            [
             1,
             "#f0f921"
            ]
           ]
          },
          "colorway": [
           "#636efa",
           "#EF553B",
           "#00cc96",
           "#ab63fa",
           "#FFA15A",
           "#19d3f3",
           "#FF6692",
           "#B6E880",
           "#FF97FF",
           "#FECB52"
          ],
          "font": {
           "color": "#2a3f5f"
          },
          "geo": {
           "bgcolor": "white",
           "lakecolor": "white",
           "landcolor": "#E5ECF6",
           "showlakes": true,
           "showland": true,
           "subunitcolor": "white"
          },
          "hoverlabel": {
           "align": "left"
          },
          "hovermode": "closest",
          "mapbox": {
           "style": "light"
          },
          "paper_bgcolor": "white",
          "plot_bgcolor": "#E5ECF6",
          "polar": {
           "angularaxis": {
            "gridcolor": "white",
            "linecolor": "white",
            "ticks": ""
           },
           "bgcolor": "#E5ECF6",
           "radialaxis": {
            "gridcolor": "white",
            "linecolor": "white",
            "ticks": ""
           }
          },
          "scene": {
           "xaxis": {
            "backgroundcolor": "#E5ECF6",
            "gridcolor": "white",
            "gridwidth": 2,
            "linecolor": "white",
            "showbackground": true,
            "ticks": "",
            "zerolinecolor": "white"
           },
           "yaxis": {
            "backgroundcolor": "#E5ECF6",
            "gridcolor": "white",
            "gridwidth": 2,
            "linecolor": "white",
            "showbackground": true,
            "ticks": "",
            "zerolinecolor": "white"
           },
           "zaxis": {
            "backgroundcolor": "#E5ECF6",
            "gridcolor": "white",
            "gridwidth": 2,
            "linecolor": "white",
            "showbackground": true,
            "ticks": "",
            "zerolinecolor": "white"
           }
          },
          "shapedefaults": {
           "line": {
            "color": "#2a3f5f"
           }
          },
          "ternary": {
           "aaxis": {
            "gridcolor": "white",
            "linecolor": "white",
            "ticks": ""
           },
           "baxis": {
            "gridcolor": "white",
            "linecolor": "white",
            "ticks": ""
           },
           "bgcolor": "#E5ECF6",
           "caxis": {
            "gridcolor": "white",
            "linecolor": "white",
            "ticks": ""
           }
          },
          "title": {
           "x": 0.05
          },
          "xaxis": {
           "automargin": true,
           "gridcolor": "white",
           "linecolor": "white",
           "ticks": "",
           "title": {
            "standoff": 15
           },
           "zerolinecolor": "white",
           "zerolinewidth": 2
          },
          "yaxis": {
           "automargin": true,
           "gridcolor": "white",
           "linecolor": "white",
           "ticks": "",
           "title": {
            "standoff": 15
           },
           "zerolinecolor": "white",
           "zerolinewidth": 2
          }
         }
        }
       }
      },
      "text/html": [
       "<div>                            <div id=\"4f4ae3c0-c9c9-4236-a4fa-62da1f57cab8\" class=\"plotly-graph-div\" style=\"height:525px; width:100%;\"></div>            <script type=\"text/javascript\">                require([\"plotly\"], function(Plotly) {                    window.PLOTLYENV=window.PLOTLYENV || {};                                    if (document.getElementById(\"4f4ae3c0-c9c9-4236-a4fa-62da1f57cab8\")) {                    Plotly.newPlot(                        \"4f4ae3c0-c9c9-4236-a4fa-62da1f57cab8\",                        [{\"marker\":{\"color\":[1.0,1.0,1.0,1.0,1.0,1.0,1.0,1.0,1.0,1.0,1.0,1.0,1.0,1.0,1.0,1.0,1.0,1.0,1.0,1.0,1.0,1.0,1.0,1.0,1.0,1.0,1.0,1.0,1.0,1.0,1.0,1.0,1.0,1.0,1.0,1.0,1.0,1.0,1.0,1.0,1.0,1.0,1.0,1.0,1.0,1.0,1.0,1.0,1.0,1.0,1.0,1.0,1.0,1.0,1.0,1.0,1.0,1.0,1.0,3.0,3.0,3.0,3.0,2.0,3.0,2.0,2.0,2.0,3.0,2.0,3.0,2.0,3.0,2.0,2.0,3.0,3.0,3.0,2.0,2.0,2.0,2.0,3.0,3.0,2.0,2.0,3.0,3.0,3.0,3.0,3.0,3.0,3.0,2.0,2.0,2.0,2.0,2.0,2.0,2.0,2.0,3.0,2.0,3.0,2.0,3.0,3.0,3.0,2.0,2.0,2.0,2.0,3.0,3.0,3.0,3.0,2.0,2.0,3.0,2.0,2.0,2.0,2.0,2.0,2.0,2.0,2.0,3.0,2.0,3.0,0.0,0.0,0.0,0.0,0.0,0.0,0.0,0.0,0.0,0.0,0.0,0.0,0.0,0.0,0.0,0.0,0.0,0.0,0.0,0.0,0.0,0.0,0.0,0.0,0.0,0.0,0.0,0.0,0.0,0.0,0.0,0.0,0.0,0.0,0.0,0.0,0.0,0.0,0.0,0.0,0.0,0.0,0.0,0.0,0.0,0.0,0.0,0.0]},\"mode\":\"markers\",\"text\":[\"0\",\"1\",\"2\"],\"x\":[0.3708086785009861,0.26429980276134113,0.3747534516765285,0.5562130177514792,0.25838264299802755,0.4654832347140039,0.3372781065088757,0.32149901380670604,0.33333333333333326,0.5069033530571991,0.3806706114398421,0.31558185404339245,0.3668639053254437,0.35108481262327407,0.5305719921104536,0.5128205128205128,0.418145956607495,0.4536489151873766,0.6331360946745561,0.32544378698224846,0.3727810650887573,0.2741617357001972,0.21499013806706108,0.2248520710059171,0.18934911242603544,0.19526627218934905,0.2998027613412228,0.2268244575936883,0.2741617357001972,0.291913214990138,0.37672583826429973,0.47928994082840226,0.2169625246548323,0.35108481262327407,0.24852071005917153,0.32544378698224846,0.282051282051282,0.25246548323471396,0.20512820512820507,0.32544378698224846,0.41222879684418134,0.2544378698224851,0.3530571992110453,0.26232741617356997,0.3195266272189348,0.3372781065088757,0.3076923076923076,0.4102564102564102,0.418145956607495,0.6489151873767257,0.5049309664694279,0.3668639053254437,0.4911242603550295,0.428007889546351,0.38856015779092695,0.4240631163708086,0.4339250493096646,0.40236686390532533,0.46942800788954625,0.05719921104536485,0.1696252465483234,0.3806706114398421,0.21499013806706108,0.27021696252465477,0.14201183431952655,0.282051282051282,0.34122287968441806,0.2899408284023668,0.1597633136094674,0.13214990138067056,0.14990138067061137,0.17751479289940822,0.2090729783037475,0.175542406311637,0.16370808678500978,0.21499013806706108,0.282051282051282,0.11637080867850091,0.17948717948717943,0.10848126232741609,0.10256410256410248,0.22287968441814587,0.07692307692307687,0.2998027613412228,0.14990138067061137,0.11439842209072973,0.09861932938856013,0.11242603550295852,0.12820512820512814,0.03747534516765283,0.09467455621301771,0.19723865877712027,0.14990138067061137,0.07297830374753447,0.1676528599605522,0.11242603550295852,0.10256410256410248,0.13806706114398415,0.2741617357001972,0.08678500986193288,0.1715976331360946,0.09861932938856013,0.12820512820512814,0.06508875739644965,0.14003944773175536,0.12031558185404334,0.17948717948717943,0.1715976331360946,0.12031558185404334,0.11637080867850091,0.13806706114398415,0.06114398422090722,0.21499013806706108,0.15187376725838259,0.13806706114398415,0.05128205128205121,0.05719921104536485,0.06508875739644965,0.17948717948717943,0.0,0.1676528599605522,0.40236686390532533,0.06706114398422086,0.11242603550295852,0.12820512820512814,0.12623274161735695,0.2268244575936883,0.14595660749506897,0.07100591715976323,0.11242603550295852,0.24063116370808674,0.35108481262327407,0.37672583826429973,0.31558185404339245,0.3550295857988165,0.49506903353057186,0.21893491124260347,0.31558185404339245,0.37672583826429973,0.3096646942800788,0.282051282051282,0.3668639053254437,0.26035502958579876,0.26627218934911234,0.5897435897435896,0.2307692307692307,0.3076923076923076,0.5424063116370808,0.6074950690335305,0.6923076923076922,0.6232741617357,0.8106508875739644,0.49506903353057186,0.7869822485207099,0.5384615384615383,0.564102564102564,0.6587771203155817,0.5305719921104536,0.9999999999999998,0.8915187376725837,0.5424063116370808,0.3925049309664693,0.3668639053254437,0.34122287968441806,0.7080867850098618,0.4556213017751478,0.8007889546351084,0.7652859960552267,0.6291913214990137,0.6153846153846152,0.3589743589743589,0.7337278106508874,0.7179487179487178,0.5463510848126232,0.5128205128205128,0.7593688362919131,0.6824457593688362,0.6745562130177514],\"y\":[0.8422174840085288,0.5714285714285715,0.5607675906183369,0.8784648187633264,0.5820895522388061,0.8336886993603412,0.884861407249467,0.7974413646055438,1.0,0.7441364605543711,0.8081023454157783,0.8123667377398721,0.7164179104477613,0.978678038379531,0.8805970149253732,0.6844349680170576,0.8614072494669511,0.7356076759061835,0.8315565031982943,0.6865671641791046,0.7974413646055438,0.49893390191897663,0.7057569296375268,0.4776119402985075,0.6503198294243071,0.5309168443496802,0.6204690831556504,0.5970149253731344,0.7462686567164181,0.7867803837953092,0.7100213219616205,0.6716417910447762,0.6972281449893392,0.7185501066098081,0.652452025586354,0.6439232409381663,0.5927505330490406,0.5309168443496802,0.537313432835821,0.840085287846482,0.6652452025586355,0.6268656716417911,0.7505330490405118,0.5820895522388061,0.5309168443496802,0.8358208955223881,0.8805970149253732,0.7547974413646057,0.8081023454157783,0.7654584221748402,0.5309168443496802,0.7356076759061835,0.7334754797441365,0.7206823027718551,0.7121535181236675,0.6652452025586355,0.840085287846482,0.5948827292110875,0.7078891257995736,0.3518123667377399,0.3411513859275054,0.42217484008528794,0.6950959488272922,0.3518123667377399,0.29850746268656725,0.3518123667377399,0.5479744136460555,0.3518123667377399,0.607675906183369,0.3091684434968017,0.33049040511727085,0.7441364605543711,0.6460554371002133,0.5159914712153518,0.24307036247334757,0.16417910447761197,0.5266524520255864,0.21321961620469088,0.3411513859275054,0.4392324093816632,0.25373134328358216,0.443496801705757,0.2750533049040512,0.5309168443496802,0.21321961620469088,0.43070362473347557,0.2963752665245203,0.16204690831556506,0.15991471215351816,0.2750533049040512,0.2750533049040512,0.25373134328358216,0.4371002132196163,0.33049040511727085,0.15351812366737744,0.37739872068230285,0.20469083155650325,0.33049040511727085,0.3518123667377399,0.33049040511727085,0.2750533049040512,0.41364605543710026,0.34328358208955234,0.20682302771855016,0.3880597014925374,0.3646055437100214,0.3198294243070363,0.443496801705757,0.3134328358208956,0.15138592750533053,0.11300639658848621,0.3923240938166312,0.1918976545842218,0.10021321961620472,0.2750533049040512,0.0,0.20682302771855016,0.3646055437100214,0.45842217484008535,0.25373134328358216,0.1087420042643924,0.1385927505330491,0.3646055437100214,0.5309168443496802,0.2196162046908316,0.27292110874200437,0.3688699360341152,0.19829424307036253,0.3518123667377399,0.2643923240938167,0.4818763326226013,0.48614072494669514,0.466950959488273,0.4392324093816632,0.3880597014925374,0.41364605543710026,0.3198294243070363,0.3944562899786781,0.6460554371002133,0.4754797441364606,0.49893390191897663,0.6119402985074628,0.6545842217484009,0.6823027718550108,0.3198294243070363,0.5607675906183369,0.7505330490405118,0.48400852878464823,0.6012793176972282,0.5394456289978679,0.6503198294243071,0.46268656716417916,0.5479744136460555,0.5778251599147123,0.40724946695095954,0.5628997867803839,0.7398720682302773,0.37313432835820903,0.8699360341151386,0.6439232409381663,0.349680170575693,0.699360341151386,0.4776119402985075,0.5074626865671642,0.722814498933902,0.7100213219616205,0.6375266524520257,0.4712153518123668,0.6716417910447762,0.6226012793176973,0.3070362473347549,0.45842217484008535,0.8230277185501067,0.7057569296375268,0.6226012793176973,0.5884861407249468,0.5628997867803839,0.8166311300639659],\"z\":[0.5716374269005847,0.41666666666666663,0.7002923976608186,0.6096491228070176,0.8070175438596491,0.5833333333333333,0.5833333333333333,0.6681286549707602,0.4327485380116959,0.48684210526315785,0.5029239766081871,0.513157894736842,0.5614035087719298,0.5511695906432749,0.5453216374269005,0.7163742690058479,0.7266081871345029,0.6739766081871345,0.597953216374269,0.641812865497076,0.49122807017543857,0.6900584795321637,0.5350877192982456,0.6198830409356725,0.6681286549707602,0.9941520467836257,0.6739766081871345,0.41666666666666663,0.7690058479532164,0.4546783625730994,0.7163742690058479,0.5350877192982456,0.5350877192982456,0.7163742690058479,0.6900584795321637,0.5614035087719298,0.7909356725146198,0.6359649122807017,0.3961988304093567,0.6140350877192982,0.5073099415204678,0.4064327485380117,0.6578947368421052,0.49707602339181284,0.3961988304093567,0.577485380116959,0.49122807017543857,0.4064327485380117,0.5555555555555556,0.48684210526315785,0.36403508771929827,0.6622807017543859,0.567251461988304,0.706140350877193,0.4751461988304093,0.587719298245614,0.5029239766081871,0.706140350877193,0.6096491228070176,0.0,0.49122807017543857,0.3523391812865497,0.29970760233918126,0.42836257309941517,0.6257309941520468,0.641812865497076,0.18128654970760233,0.29970760233918126,0.5350877192982456,0.20906432748538012,0.4546783625730994,0.7002923976608186,0.4707602339181286,0.6622807017543859,0.5029239766081871,0.29970760233918126,0.1871345029239766,0.4649122807017544,0.3157894736842105,0.5555555555555556,0.3421052631578947,0.44883040935672514,0.6140350877192982,0.513157894736842,0.652046783625731,0.4707602339181286,0.5073099415204678,0.6739766081871345,0.587719298245614,0.5029239766081871,0.513157894736842,0.567251461988304,0.4809941520467836,0.45906432748538006,0.49122807017543857,0.44883040935672514,0.7383040935672515,0.33187134502923976,0.3961988304093567,0.4546783625730994,0.18128654970760233,0.2880116959064327,0.587719298245614,0.27777777777777773,0.33187134502923976,0.48684210526315785,0.4064327485380117,0.49122807017543857,0.30994152046783624,0.7163742690058479,0.24561403508771928,0.4327485380116959,0.8333333333333333,0.6096491228070176,0.6096491228070176,0.44883040935672514,0.3362573099415205,0.44298245614035087,0.33187134502923976,0.3421052631578947,0.567251461988304,1.0,0.7324561403508771,0.4122807017543859,0.5511695906432749,0.4327485380116959,0.49707602339181284,0.7587719298245614,0.5029239766081871,0.5453216374269005,0.513157894736842,0.5555555555555556,0.5555555555555556,0.5350877192982456,0.4751461988304093,0.44883040935672514,0.6301169590643274,0.6842105263157894,0.44298245614035087,0.6681286549707602,0.7163742690058479,0.5292397660818713,0.7266081871345029,0.5292397660818713,0.44883040935672514,0.4225146198830409,0.4649122807017544,0.597953216374269,0.5453216374269005,0.5350877192982456,0.6739766081871345,0.597953216374269,0.7426900584795322,0.49122807017543857,0.3961988304093567,0.513157894736842,0.5453216374269005,0.6842105263157894,0.7163742690058479,0.6842105263157894,0.5453216374269005,0.6301169590643274,0.652046783625731,0.5292397660818713,0.5029239766081871,0.4809941520467836,0.6622807017543859,0.5029239766081871,0.7105263157894737,0.8011695906432748,0.513157894736842,0.49122807017543857,0.597953216374269,0.5833333333333333,0.597953216374269,0.4809941520467836,0.5394736842105263,0.7383040935672515],\"type\":\"scatter3d\"}],                        {\"template\":{\"data\":{\"histogram2dcontour\":[{\"type\":\"histogram2dcontour\",\"colorbar\":{\"outlinewidth\":0,\"ticks\":\"\"},\"colorscale\":[[0.0,\"#0d0887\"],[0.1111111111111111,\"#46039f\"],[0.2222222222222222,\"#7201a8\"],[0.3333333333333333,\"#9c179e\"],[0.4444444444444444,\"#bd3786\"],[0.5555555555555556,\"#d8576b\"],[0.6666666666666666,\"#ed7953\"],[0.7777777777777778,\"#fb9f3a\"],[0.8888888888888888,\"#fdca26\"],[1.0,\"#f0f921\"]]}],\"choropleth\":[{\"type\":\"choropleth\",\"colorbar\":{\"outlinewidth\":0,\"ticks\":\"\"}}],\"histogram2d\":[{\"type\":\"histogram2d\",\"colorbar\":{\"outlinewidth\":0,\"ticks\":\"\"},\"colorscale\":[[0.0,\"#0d0887\"],[0.1111111111111111,\"#46039f\"],[0.2222222222222222,\"#7201a8\"],[0.3333333333333333,\"#9c179e\"],[0.4444444444444444,\"#bd3786\"],[0.5555555555555556,\"#d8576b\"],[0.6666666666666666,\"#ed7953\"],[0.7777777777777778,\"#fb9f3a\"],[0.8888888888888888,\"#fdca26\"],[1.0,\"#f0f921\"]]}],\"heatmap\":[{\"type\":\"heatmap\",\"colorbar\":{\"outlinewidth\":0,\"ticks\":\"\"},\"colorscale\":[[0.0,\"#0d0887\"],[0.1111111111111111,\"#46039f\"],[0.2222222222222222,\"#7201a8\"],[0.3333333333333333,\"#9c179e\"],[0.4444444444444444,\"#bd3786\"],[0.5555555555555556,\"#d8576b\"],[0.6666666666666666,\"#ed7953\"],[0.7777777777777778,\"#fb9f3a\"],[0.8888888888888888,\"#fdca26\"],[1.0,\"#f0f921\"]]}],\"heatmapgl\":[{\"type\":\"heatmapgl\",\"colorbar\":{\"outlinewidth\":0,\"ticks\":\"\"},\"colorscale\":[[0.0,\"#0d0887\"],[0.1111111111111111,\"#46039f\"],[0.2222222222222222,\"#7201a8\"],[0.3333333333333333,\"#9c179e\"],[0.4444444444444444,\"#bd3786\"],[0.5555555555555556,\"#d8576b\"],[0.6666666666666666,\"#ed7953\"],[0.7777777777777778,\"#fb9f3a\"],[0.8888888888888888,\"#fdca26\"],[1.0,\"#f0f921\"]]}],\"contourcarpet\":[{\"type\":\"contourcarpet\",\"colorbar\":{\"outlinewidth\":0,\"ticks\":\"\"}}],\"contour\":[{\"type\":\"contour\",\"colorbar\":{\"outlinewidth\":0,\"ticks\":\"\"},\"colorscale\":[[0.0,\"#0d0887\"],[0.1111111111111111,\"#46039f\"],[0.2222222222222222,\"#7201a8\"],[0.3333333333333333,\"#9c179e\"],[0.4444444444444444,\"#bd3786\"],[0.5555555555555556,\"#d8576b\"],[0.6666666666666666,\"#ed7953\"],[0.7777777777777778,\"#fb9f3a\"],[0.8888888888888888,\"#fdca26\"],[1.0,\"#f0f921\"]]}],\"surface\":[{\"type\":\"surface\",\"colorbar\":{\"outlinewidth\":0,\"ticks\":\"\"},\"colorscale\":[[0.0,\"#0d0887\"],[0.1111111111111111,\"#46039f\"],[0.2222222222222222,\"#7201a8\"],[0.3333333333333333,\"#9c179e\"],[0.4444444444444444,\"#bd3786\"],[0.5555555555555556,\"#d8576b\"],[0.6666666666666666,\"#ed7953\"],[0.7777777777777778,\"#fb9f3a\"],[0.8888888888888888,\"#fdca26\"],[1.0,\"#f0f921\"]]}],\"mesh3d\":[{\"type\":\"mesh3d\",\"colorbar\":{\"outlinewidth\":0,\"ticks\":\"\"}}],\"scatter\":[{\"fillpattern\":{\"fillmode\":\"overlay\",\"size\":10,\"solidity\":0.2},\"type\":\"scatter\"}],\"parcoords\":[{\"type\":\"parcoords\",\"line\":{\"colorbar\":{\"outlinewidth\":0,\"ticks\":\"\"}}}],\"scatterpolargl\":[{\"type\":\"scatterpolargl\",\"marker\":{\"colorbar\":{\"outlinewidth\":0,\"ticks\":\"\"}}}],\"bar\":[{\"error_x\":{\"color\":\"#2a3f5f\"},\"error_y\":{\"color\":\"#2a3f5f\"},\"marker\":{\"line\":{\"color\":\"#E5ECF6\",\"width\":0.5},\"pattern\":{\"fillmode\":\"overlay\",\"size\":10,\"solidity\":0.2}},\"type\":\"bar\"}],\"scattergeo\":[{\"type\":\"scattergeo\",\"marker\":{\"colorbar\":{\"outlinewidth\":0,\"ticks\":\"\"}}}],\"scatterpolar\":[{\"type\":\"scatterpolar\",\"marker\":{\"colorbar\":{\"outlinewidth\":0,\"ticks\":\"\"}}}],\"histogram\":[{\"marker\":{\"pattern\":{\"fillmode\":\"overlay\",\"size\":10,\"solidity\":0.2}},\"type\":\"histogram\"}],\"scattergl\":[{\"type\":\"scattergl\",\"marker\":{\"colorbar\":{\"outlinewidth\":0,\"ticks\":\"\"}}}],\"scatter3d\":[{\"type\":\"scatter3d\",\"line\":{\"colorbar\":{\"outlinewidth\":0,\"ticks\":\"\"}},\"marker\":{\"colorbar\":{\"outlinewidth\":0,\"ticks\":\"\"}}}],\"scattermapbox\":[{\"type\":\"scattermapbox\",\"marker\":{\"colorbar\":{\"outlinewidth\":0,\"ticks\":\"\"}}}],\"scatterternary\":[{\"type\":\"scatterternary\",\"marker\":{\"colorbar\":{\"outlinewidth\":0,\"ticks\":\"\"}}}],\"scattercarpet\":[{\"type\":\"scattercarpet\",\"marker\":{\"colorbar\":{\"outlinewidth\":0,\"ticks\":\"\"}}}],\"carpet\":[{\"aaxis\":{\"endlinecolor\":\"#2a3f5f\",\"gridcolor\":\"white\",\"linecolor\":\"white\",\"minorgridcolor\":\"white\",\"startlinecolor\":\"#2a3f5f\"},\"baxis\":{\"endlinecolor\":\"#2a3f5f\",\"gridcolor\":\"white\",\"linecolor\":\"white\",\"minorgridcolor\":\"white\",\"startlinecolor\":\"#2a3f5f\"},\"type\":\"carpet\"}],\"table\":[{\"cells\":{\"fill\":{\"color\":\"#EBF0F8\"},\"line\":{\"color\":\"white\"}},\"header\":{\"fill\":{\"color\":\"#C8D4E3\"},\"line\":{\"color\":\"white\"}},\"type\":\"table\"}],\"barpolar\":[{\"marker\":{\"line\":{\"color\":\"#E5ECF6\",\"width\":0.5},\"pattern\":{\"fillmode\":\"overlay\",\"size\":10,\"solidity\":0.2}},\"type\":\"barpolar\"}],\"pie\":[{\"automargin\":true,\"type\":\"pie\"}]},\"layout\":{\"autotypenumbers\":\"strict\",\"colorway\":[\"#636efa\",\"#EF553B\",\"#00cc96\",\"#ab63fa\",\"#FFA15A\",\"#19d3f3\",\"#FF6692\",\"#B6E880\",\"#FF97FF\",\"#FECB52\"],\"font\":{\"color\":\"#2a3f5f\"},\"hovermode\":\"closest\",\"hoverlabel\":{\"align\":\"left\"},\"paper_bgcolor\":\"white\",\"plot_bgcolor\":\"#E5ECF6\",\"polar\":{\"bgcolor\":\"#E5ECF6\",\"angularaxis\":{\"gridcolor\":\"white\",\"linecolor\":\"white\",\"ticks\":\"\"},\"radialaxis\":{\"gridcolor\":\"white\",\"linecolor\":\"white\",\"ticks\":\"\"}},\"ternary\":{\"bgcolor\":\"#E5ECF6\",\"aaxis\":{\"gridcolor\":\"white\",\"linecolor\":\"white\",\"ticks\":\"\"},\"baxis\":{\"gridcolor\":\"white\",\"linecolor\":\"white\",\"ticks\":\"\"},\"caxis\":{\"gridcolor\":\"white\",\"linecolor\":\"white\",\"ticks\":\"\"}},\"coloraxis\":{\"colorbar\":{\"outlinewidth\":0,\"ticks\":\"\"}},\"colorscale\":{\"sequential\":[[0.0,\"#0d0887\"],[0.1111111111111111,\"#46039f\"],[0.2222222222222222,\"#7201a8\"],[0.3333333333333333,\"#9c179e\"],[0.4444444444444444,\"#bd3786\"],[0.5555555555555556,\"#d8576b\"],[0.6666666666666666,\"#ed7953\"],[0.7777777777777778,\"#fb9f3a\"],[0.8888888888888888,\"#fdca26\"],[1.0,\"#f0f921\"]],\"sequentialminus\":[[0.0,\"#0d0887\"],[0.1111111111111111,\"#46039f\"],[0.2222222222222222,\"#7201a8\"],[0.3333333333333333,\"#9c179e\"],[0.4444444444444444,\"#bd3786\"],[0.5555555555555556,\"#d8576b\"],[0.6666666666666666,\"#ed7953\"],[0.7777777777777778,\"#fb9f3a\"],[0.8888888888888888,\"#fdca26\"],[1.0,\"#f0f921\"]],\"diverging\":[[0,\"#8e0152\"],[0.1,\"#c51b7d\"],[0.2,\"#de77ae\"],[0.3,\"#f1b6da\"],[0.4,\"#fde0ef\"],[0.5,\"#f7f7f7\"],[0.6,\"#e6f5d0\"],[0.7,\"#b8e186\"],[0.8,\"#7fbc41\"],[0.9,\"#4d9221\"],[1,\"#276419\"]]},\"xaxis\":{\"gridcolor\":\"white\",\"linecolor\":\"white\",\"ticks\":\"\",\"title\":{\"standoff\":15},\"zerolinecolor\":\"white\",\"automargin\":true,\"zerolinewidth\":2},\"yaxis\":{\"gridcolor\":\"white\",\"linecolor\":\"white\",\"ticks\":\"\",\"title\":{\"standoff\":15},\"zerolinecolor\":\"white\",\"automargin\":true,\"zerolinewidth\":2},\"scene\":{\"xaxis\":{\"backgroundcolor\":\"#E5ECF6\",\"gridcolor\":\"white\",\"linecolor\":\"white\",\"showbackground\":true,\"ticks\":\"\",\"zerolinecolor\":\"white\",\"gridwidth\":2},\"yaxis\":{\"backgroundcolor\":\"#E5ECF6\",\"gridcolor\":\"white\",\"linecolor\":\"white\",\"showbackground\":true,\"ticks\":\"\",\"zerolinecolor\":\"white\",\"gridwidth\":2},\"zaxis\":{\"backgroundcolor\":\"#E5ECF6\",\"gridcolor\":\"white\",\"linecolor\":\"white\",\"showbackground\":true,\"ticks\":\"\",\"zerolinecolor\":\"white\",\"gridwidth\":2}},\"shapedefaults\":{\"line\":{\"color\":\"#2a3f5f\"}},\"annotationdefaults\":{\"arrowcolor\":\"#2a3f5f\",\"arrowhead\":0,\"arrowwidth\":1},\"geo\":{\"bgcolor\":\"white\",\"landcolor\":\"#E5ECF6\",\"subunitcolor\":\"white\",\"showland\":true,\"showlakes\":true,\"lakecolor\":\"white\"},\"title\":{\"x\":0.05},\"mapbox\":{\"style\":\"light\"}}}},                        {\"responsive\": true}                    ).then(function(){\n",
       "                            \n",
       "var gd = document.getElementById('4f4ae3c0-c9c9-4236-a4fa-62da1f57cab8');\n",
       "var x = new MutationObserver(function (mutations, observer) {{\n",
       "        var display = window.getComputedStyle(gd).display;\n",
       "        if (!display || display === 'none') {{\n",
       "            console.log([gd, 'removed!']);\n",
       "            Plotly.purge(gd);\n",
       "            observer.disconnect();\n",
       "        }}\n",
       "}});\n",
       "\n",
       "// Listen for the removal of the full notebook cells\n",
       "var notebookContainer = gd.closest('#notebook-container');\n",
       "if (notebookContainer) {{\n",
       "    x.observe(notebookContainer, {childList: true});\n",
       "}}\n",
       "\n",
       "// Listen for the clearing of the current output cell\n",
       "var outputEl = gd.closest('.output');\n",
       "if (outputEl) {{\n",
       "    x.observe(outputEl, {childList: true});\n",
       "}}\n",
       "\n",
       "                        })                };                });            </script>        </div>"
      ]
     },
     "metadata": {},
     "output_type": "display_data"
    }
   ],
   "source": [
    "fig = go.Figure()\n",
    "fig.add_trace(go.Scatter3d(x = data['Color_Intensity'],\n",
    "                           y = data['Alcohol'],\n",
    "                           z = data['Ash'],\n",
    "                           mode = 'markers',\n",
    "                           marker = dict(color = clust.labels_.astype(np.float64)),text = [0,1,2]))\n",
    "fig.show()"
   ]
  },
  {
   "cell_type": "markdown",
   "id": "4fc27491-cc04-4300-9c6d-42db9bf9948f",
   "metadata": {},
   "source": [
    "### <font color='orange'>DBScan </font>\n",
    "<hr style='border: 1px solid orange;'>"
   ]
  },
  {
   "cell_type": "markdown",
   "id": "a896ac98-980d-4fb6-9669-e86fbf73efc1",
   "metadata": {},
   "source": [
    "**Density-Based Spatial Clustering of Applications with Noise**\n",
    "\n",
    "**Group based on points with high density, or, poins with too mutch data at the same place**"
   ]
  },
  {
   "cell_type": "code",
   "execution_count": 101,
   "id": "343cab02-ff5e-444c-ae11-c8889f80d519",
   "metadata": {},
   "outputs": [
    {
     "data": {
      "text/html": [
       "<style>#sk-container-id-5 {color: black;background-color: white;}#sk-container-id-5 pre{padding: 0;}#sk-container-id-5 div.sk-toggleable {background-color: white;}#sk-container-id-5 label.sk-toggleable__label {cursor: pointer;display: block;width: 100%;margin-bottom: 0;padding: 0.3em;box-sizing: border-box;text-align: center;}#sk-container-id-5 label.sk-toggleable__label-arrow:before {content: \"▸\";float: left;margin-right: 0.25em;color: #696969;}#sk-container-id-5 label.sk-toggleable__label-arrow:hover:before {color: black;}#sk-container-id-5 div.sk-estimator:hover label.sk-toggleable__label-arrow:before {color: black;}#sk-container-id-5 div.sk-toggleable__content {max-height: 0;max-width: 0;overflow: hidden;text-align: left;background-color: #f0f8ff;}#sk-container-id-5 div.sk-toggleable__content pre {margin: 0.2em;color: black;border-radius: 0.25em;background-color: #f0f8ff;}#sk-container-id-5 input.sk-toggleable__control:checked~div.sk-toggleable__content {max-height: 200px;max-width: 100%;overflow: auto;}#sk-container-id-5 input.sk-toggleable__control:checked~label.sk-toggleable__label-arrow:before {content: \"▾\";}#sk-container-id-5 div.sk-estimator input.sk-toggleable__control:checked~label.sk-toggleable__label {background-color: #d4ebff;}#sk-container-id-5 div.sk-label input.sk-toggleable__control:checked~label.sk-toggleable__label {background-color: #d4ebff;}#sk-container-id-5 input.sk-hidden--visually {border: 0;clip: rect(1px 1px 1px 1px);clip: rect(1px, 1px, 1px, 1px);height: 1px;margin: -1px;overflow: hidden;padding: 0;position: absolute;width: 1px;}#sk-container-id-5 div.sk-estimator {font-family: monospace;background-color: #f0f8ff;border: 1px dotted black;border-radius: 0.25em;box-sizing: border-box;margin-bottom: 0.5em;}#sk-container-id-5 div.sk-estimator:hover {background-color: #d4ebff;}#sk-container-id-5 div.sk-parallel-item::after {content: \"\";width: 100%;border-bottom: 1px solid gray;flex-grow: 1;}#sk-container-id-5 div.sk-label:hover label.sk-toggleable__label {background-color: #d4ebff;}#sk-container-id-5 div.sk-serial::before {content: \"\";position: absolute;border-left: 1px solid gray;box-sizing: border-box;top: 0;bottom: 0;left: 50%;z-index: 0;}#sk-container-id-5 div.sk-serial {display: flex;flex-direction: column;align-items: center;background-color: white;padding-right: 0.2em;padding-left: 0.2em;position: relative;}#sk-container-id-5 div.sk-item {position: relative;z-index: 1;}#sk-container-id-5 div.sk-parallel {display: flex;align-items: stretch;justify-content: center;background-color: white;position: relative;}#sk-container-id-5 div.sk-item::before, #sk-container-id-5 div.sk-parallel-item::before {content: \"\";position: absolute;border-left: 1px solid gray;box-sizing: border-box;top: 0;bottom: 0;left: 50%;z-index: -1;}#sk-container-id-5 div.sk-parallel-item {display: flex;flex-direction: column;z-index: 1;position: relative;background-color: white;}#sk-container-id-5 div.sk-parallel-item:first-child::after {align-self: flex-end;width: 50%;}#sk-container-id-5 div.sk-parallel-item:last-child::after {align-self: flex-start;width: 50%;}#sk-container-id-5 div.sk-parallel-item:only-child::after {width: 0;}#sk-container-id-5 div.sk-dashed-wrapped {border: 1px dashed gray;margin: 0 0.4em 0.5em 0.4em;box-sizing: border-box;padding-bottom: 0.4em;background-color: white;}#sk-container-id-5 div.sk-label label {font-family: monospace;font-weight: bold;display: inline-block;line-height: 1.2em;}#sk-container-id-5 div.sk-label-container {text-align: center;}#sk-container-id-5 div.sk-container {/* jupyter's `normalize.less` sets `[hidden] { display: none; }` but bootstrap.min.css set `[hidden] { display: none !important; }` so we also need the `!important` here to be able to override the default hidden behavior on the sphinx rendered scikit-learn.org. See: https://github.com/scikit-learn/scikit-learn/issues/21755 */display: inline-block !important;position: relative;}#sk-container-id-5 div.sk-text-repr-fallback {display: none;}</style><div id=\"sk-container-id-5\" class=\"sk-top-container\"><div class=\"sk-text-repr-fallback\"><pre>DBSCAN(eps=1.31, metric=&#x27;manhattan&#x27;, min_samples=15)</pre><b>In a Jupyter environment, please rerun this cell to show the HTML representation or trust the notebook. <br />On GitHub, the HTML representation is unable to render, please try loading this page with nbviewer.org.</b></div><div class=\"sk-container\" hidden><div class=\"sk-item\"><div class=\"sk-estimator sk-toggleable\"><input class=\"sk-toggleable__control sk-hidden--visually\" id=\"sk-estimator-id-5\" type=\"checkbox\" checked><label for=\"sk-estimator-id-5\" class=\"sk-toggleable__label sk-toggleable__label-arrow\">DBSCAN</label><div class=\"sk-toggleable__content\"><pre>DBSCAN(eps=1.31, metric=&#x27;manhattan&#x27;, min_samples=15)</pre></div></div></div></div></div>"
      ],
      "text/plain": [
       "DBSCAN(eps=1.31, metric='manhattan', min_samples=15)"
      ]
     },
     "execution_count": 101,
     "metadata": {},
     "output_type": "execute_result"
    }
   ],
   "source": [
    "from sklearn.cluster import DBSCAN\n",
    "cluster = DBSCAN(eps = 1.31, min_samples = 15, metric = 'manhattan') \n",
    "cluster.fit(data)"
   ]
  },
  {
   "cell_type": "code",
   "execution_count": 102,
   "id": "e2d91b40-c904-4d99-96be-d643b420ce74",
   "metadata": {},
   "outputs": [
    {
     "data": {
      "text/plain": [
       "array([ 0,  0,  0,  0, -1,  0,  0,  0,  0,  0,  0,  0,  0, -1,  0,  0,  0,\n",
       "        0,  0,  0,  0,  0,  0,  0,  0, -1,  0,  0,  0,  0,  0,  0,  0,  0,\n",
       "        0,  0,  0,  0,  0, -1,  0, -1,  0, -1,  0, -1,  0,  0,  0,  0, -1,\n",
       "        0,  0,  0,  0,  0,  0,  0,  0, -1, -1, -1, -1, -1, -1, -1, -1,  1,\n",
       "       -1, -1, -1, -1, -1, -1, -1, -1, -1, -1, -1, -1, -1,  1, -1, -1, -1,\n",
       "        1, -1, -1, -1, -1,  1,  1, -1, -1, -1, -1, -1, -1, -1, -1, -1,  1,\n",
       "       -1,  1,  1, -1,  1,  1,  1, -1, -1, -1, -1, -1, -1, -1,  1,  1, -1,\n",
       "        1, -1, -1, -1, -1, -1,  1, -1, -1, -1, -1, -1,  2, -1,  2, -1,  2,\n",
       "       -1, -1,  2, -1, -1,  2, -1, -1,  2,  2, -1,  2,  2,  2, -1, -1, -1,\n",
       "        2, -1,  2,  2, -1, -1, -1,  2,  2,  2,  2,  2, -1,  2,  2,  2, -1,\n",
       "        2,  2,  2,  2,  2,  2,  2,  2])"
      ]
     },
     "execution_count": 102,
     "metadata": {},
     "output_type": "execute_result"
    }
   ],
   "source": [
    "cluster.labels_"
   ]
  },
  {
   "cell_type": "markdown",
   "id": "a709cfb2-b16d-4953-b3ba-d774c989c40a",
   "metadata": {},
   "source": [
    "**All the values with -1 are far away from the limit of eps=1.31 distance between values**"
   ]
  },
  {
   "cell_type": "markdown",
   "id": "ee0c967f-9d4f-4670-99c1-481272f23b3b",
   "metadata": {},
   "source": [
    "### <font color='orange'>MeanShift </font>\n",
    "<hr style='border: 1px solid orange;'>"
   ]
  },
  {
   "cell_type": "markdown",
   "id": "7846b797-4cd0-458a-8624-deffa2e3b26e",
   "metadata": {},
   "source": [
    "**Diferent from K-means, o MeanShift dont request a specific number of clusters**\n",
    "**it checks for regions with hight density and deduct that there is a cluster there**"
   ]
  },
  {
   "cell_type": "code",
   "execution_count": 103,
   "id": "863b1ed9-c1e6-4237-b90d-d2933858d71e",
   "metadata": {},
   "outputs": [],
   "source": [
    "from sklearn.cluster import MeanShift"
   ]
  },
  {
   "cell_type": "code",
   "execution_count": 104,
   "id": "6d55f86f-9c45-4d83-abaf-4440d35c2aec",
   "metadata": {},
   "outputs": [],
   "source": [
    "cluster_mean = MeanShift()"
   ]
  },
  {
   "cell_type": "code",
   "execution_count": 105,
   "id": "72636e16-606d-4de0-b051-d834ec7676e4",
   "metadata": {},
   "outputs": [
    {
     "data": {
      "text/html": [
       "<style>#sk-container-id-6 {color: black;background-color: white;}#sk-container-id-6 pre{padding: 0;}#sk-container-id-6 div.sk-toggleable {background-color: white;}#sk-container-id-6 label.sk-toggleable__label {cursor: pointer;display: block;width: 100%;margin-bottom: 0;padding: 0.3em;box-sizing: border-box;text-align: center;}#sk-container-id-6 label.sk-toggleable__label-arrow:before {content: \"▸\";float: left;margin-right: 0.25em;color: #696969;}#sk-container-id-6 label.sk-toggleable__label-arrow:hover:before {color: black;}#sk-container-id-6 div.sk-estimator:hover label.sk-toggleable__label-arrow:before {color: black;}#sk-container-id-6 div.sk-toggleable__content {max-height: 0;max-width: 0;overflow: hidden;text-align: left;background-color: #f0f8ff;}#sk-container-id-6 div.sk-toggleable__content pre {margin: 0.2em;color: black;border-radius: 0.25em;background-color: #f0f8ff;}#sk-container-id-6 input.sk-toggleable__control:checked~div.sk-toggleable__content {max-height: 200px;max-width: 100%;overflow: auto;}#sk-container-id-6 input.sk-toggleable__control:checked~label.sk-toggleable__label-arrow:before {content: \"▾\";}#sk-container-id-6 div.sk-estimator input.sk-toggleable__control:checked~label.sk-toggleable__label {background-color: #d4ebff;}#sk-container-id-6 div.sk-label input.sk-toggleable__control:checked~label.sk-toggleable__label {background-color: #d4ebff;}#sk-container-id-6 input.sk-hidden--visually {border: 0;clip: rect(1px 1px 1px 1px);clip: rect(1px, 1px, 1px, 1px);height: 1px;margin: -1px;overflow: hidden;padding: 0;position: absolute;width: 1px;}#sk-container-id-6 div.sk-estimator {font-family: monospace;background-color: #f0f8ff;border: 1px dotted black;border-radius: 0.25em;box-sizing: border-box;margin-bottom: 0.5em;}#sk-container-id-6 div.sk-estimator:hover {background-color: #d4ebff;}#sk-container-id-6 div.sk-parallel-item::after {content: \"\";width: 100%;border-bottom: 1px solid gray;flex-grow: 1;}#sk-container-id-6 div.sk-label:hover label.sk-toggleable__label {background-color: #d4ebff;}#sk-container-id-6 div.sk-serial::before {content: \"\";position: absolute;border-left: 1px solid gray;box-sizing: border-box;top: 0;bottom: 0;left: 50%;z-index: 0;}#sk-container-id-6 div.sk-serial {display: flex;flex-direction: column;align-items: center;background-color: white;padding-right: 0.2em;padding-left: 0.2em;position: relative;}#sk-container-id-6 div.sk-item {position: relative;z-index: 1;}#sk-container-id-6 div.sk-parallel {display: flex;align-items: stretch;justify-content: center;background-color: white;position: relative;}#sk-container-id-6 div.sk-item::before, #sk-container-id-6 div.sk-parallel-item::before {content: \"\";position: absolute;border-left: 1px solid gray;box-sizing: border-box;top: 0;bottom: 0;left: 50%;z-index: -1;}#sk-container-id-6 div.sk-parallel-item {display: flex;flex-direction: column;z-index: 1;position: relative;background-color: white;}#sk-container-id-6 div.sk-parallel-item:first-child::after {align-self: flex-end;width: 50%;}#sk-container-id-6 div.sk-parallel-item:last-child::after {align-self: flex-start;width: 50%;}#sk-container-id-6 div.sk-parallel-item:only-child::after {width: 0;}#sk-container-id-6 div.sk-dashed-wrapped {border: 1px dashed gray;margin: 0 0.4em 0.5em 0.4em;box-sizing: border-box;padding-bottom: 0.4em;background-color: white;}#sk-container-id-6 div.sk-label label {font-family: monospace;font-weight: bold;display: inline-block;line-height: 1.2em;}#sk-container-id-6 div.sk-label-container {text-align: center;}#sk-container-id-6 div.sk-container {/* jupyter's `normalize.less` sets `[hidden] { display: none; }` but bootstrap.min.css set `[hidden] { display: none !important; }` so we also need the `!important` here to be able to override the default hidden behavior on the sphinx rendered scikit-learn.org. See: https://github.com/scikit-learn/scikit-learn/issues/21755 */display: inline-block !important;position: relative;}#sk-container-id-6 div.sk-text-repr-fallback {display: none;}</style><div id=\"sk-container-id-6\" class=\"sk-top-container\"><div class=\"sk-text-repr-fallback\"><pre>MeanShift()</pre><b>In a Jupyter environment, please rerun this cell to show the HTML representation or trust the notebook. <br />On GitHub, the HTML representation is unable to render, please try loading this page with nbviewer.org.</b></div><div class=\"sk-container\" hidden><div class=\"sk-item\"><div class=\"sk-estimator sk-toggleable\"><input class=\"sk-toggleable__control sk-hidden--visually\" id=\"sk-estimator-id-6\" type=\"checkbox\" checked><label for=\"sk-estimator-id-6\" class=\"sk-toggleable__label sk-toggleable__label-arrow\">MeanShift</label><div class=\"sk-toggleable__content\"><pre>MeanShift()</pre></div></div></div></div></div>"
      ],
      "text/plain": [
       "MeanShift()"
      ]
     },
     "execution_count": 105,
     "metadata": {},
     "output_type": "execute_result"
    }
   ],
   "source": [
    "cluster_mean.fit(data)"
   ]
  },
  {
   "cell_type": "code",
   "execution_count": 106,
   "id": "de83ff9d-d72c-498b-ad3a-b63bcdedd341",
   "metadata": {},
   "outputs": [
    {
     "data": {
      "text/plain": [
       "array([0, 0, 0, 0, 0, 0, 0, 0, 0, 0, 0, 0, 0, 0, 0, 0, 0, 0, 0, 0, 0, 0,\n",
       "       0, 0, 0, 0, 0, 0, 0, 0, 0, 0, 0, 0, 0, 0, 0, 0, 0, 0, 0, 0, 0, 0,\n",
       "       0, 0, 0, 0, 0, 0, 0, 0, 0, 0, 0, 0, 0, 0, 0, 0, 0, 0, 0, 0, 0, 0,\n",
       "       0, 0, 0, 0, 0, 0, 0, 0, 0, 0, 0, 0, 0, 0, 0, 0, 0, 0, 0, 0, 0, 0,\n",
       "       0, 0, 0, 0, 0, 0, 0, 0, 0, 0, 0, 0, 0, 0, 0, 0, 0, 0, 0, 0, 0, 0,\n",
       "       0, 0, 0, 0, 0, 0, 0, 0, 0, 0, 0, 1, 0, 0, 0, 0, 0, 0, 0, 0, 0, 0,\n",
       "       0, 0, 0, 0, 0, 0, 0, 0, 0, 0, 0, 0, 0, 0, 0, 0, 0, 0, 0, 0, 0, 0,\n",
       "       0, 0, 0, 0, 0, 0, 0, 0, 0, 0, 0, 0, 0, 0, 0, 0, 0, 0, 0, 0, 0, 0,\n",
       "       0, 0])"
      ]
     },
     "execution_count": 106,
     "metadata": {},
     "output_type": "execute_result"
    }
   ],
   "source": [
    "cluster_mean.labels_"
   ]
  },
  {
   "cell_type": "markdown",
   "id": "42502db0-5728-4540-a6b6-c0a7a4cdc727",
   "metadata": {},
   "source": [
    "#### <font color='green'>Changing parameters  </font>"
   ]
  },
  {
   "cell_type": "code",
   "execution_count": 108,
   "id": "9f041e66-2d5a-48d4-9480-c811ea1f986c",
   "metadata": {},
   "outputs": [],
   "source": [
    "from sklearn.cluster import estimate_bandwidth"
   ]
  },
  {
   "cell_type": "code",
   "execution_count": 113,
   "id": "04721331-5a16-44c8-a5a0-f1b6975f9e5d",
   "metadata": {},
   "outputs": [],
   "source": [
    "bw = estimate_bandwidth(data, quantile = 0.1)"
   ]
  },
  {
   "cell_type": "code",
   "execution_count": 114,
   "id": "86854ab4-c031-4ef6-aa24-2e3ce28573c9",
   "metadata": {},
   "outputs": [
    {
     "name": "stdout",
     "output_type": "stream",
     "text": [
      "0.6003874157810237\n"
     ]
    }
   ],
   "source": [
    "print(bw)"
   ]
  },
  {
   "cell_type": "code",
   "execution_count": 118,
   "id": "e2fd1050-323c-4767-ae14-ab85707ae55d",
   "metadata": {},
   "outputs": [
    {
     "ename": "TypeError",
     "evalue": "__init__() takes 1 positional argument but 2 were given",
     "output_type": "error",
     "traceback": [
      "\u001b[0;31m---------------------------------------------------------------------------\u001b[0m",
      "\u001b[0;31mTypeError\u001b[0m                                 Traceback (most recent call last)",
      "Input \u001b[0;32mIn [118]\u001b[0m, in \u001b[0;36m<cell line: 1>\u001b[0;34m()\u001b[0m\n\u001b[0;32m----> 1\u001b[0m cluster_bw \u001b[38;5;241m=\u001b[39m \u001b[43mMeanShift\u001b[49m\u001b[43m(\u001b[49m\u001b[43mbw\u001b[49m\u001b[43m)\u001b[49m\n",
      "\u001b[0;31mTypeError\u001b[0m: __init__() takes 1 positional argument but 2 were given"
     ]
    }
   ],
   "source": [
    "cluster_bw = MeanShift()"
   ]
  },
  {
   "cell_type": "code",
   "execution_count": 119,
   "id": "b6615c66-e028-4beb-a16f-e843c7aeff1b",
   "metadata": {},
   "outputs": [
    {
     "data": {
      "text/html": [
       "<style>#sk-container-id-7 {color: black;background-color: white;}#sk-container-id-7 pre{padding: 0;}#sk-container-id-7 div.sk-toggleable {background-color: white;}#sk-container-id-7 label.sk-toggleable__label {cursor: pointer;display: block;width: 100%;margin-bottom: 0;padding: 0.3em;box-sizing: border-box;text-align: center;}#sk-container-id-7 label.sk-toggleable__label-arrow:before {content: \"▸\";float: left;margin-right: 0.25em;color: #696969;}#sk-container-id-7 label.sk-toggleable__label-arrow:hover:before {color: black;}#sk-container-id-7 div.sk-estimator:hover label.sk-toggleable__label-arrow:before {color: black;}#sk-container-id-7 div.sk-toggleable__content {max-height: 0;max-width: 0;overflow: hidden;text-align: left;background-color: #f0f8ff;}#sk-container-id-7 div.sk-toggleable__content pre {margin: 0.2em;color: black;border-radius: 0.25em;background-color: #f0f8ff;}#sk-container-id-7 input.sk-toggleable__control:checked~div.sk-toggleable__content {max-height: 200px;max-width: 100%;overflow: auto;}#sk-container-id-7 input.sk-toggleable__control:checked~label.sk-toggleable__label-arrow:before {content: \"▾\";}#sk-container-id-7 div.sk-estimator input.sk-toggleable__control:checked~label.sk-toggleable__label {background-color: #d4ebff;}#sk-container-id-7 div.sk-label input.sk-toggleable__control:checked~label.sk-toggleable__label {background-color: #d4ebff;}#sk-container-id-7 input.sk-hidden--visually {border: 0;clip: rect(1px 1px 1px 1px);clip: rect(1px, 1px, 1px, 1px);height: 1px;margin: -1px;overflow: hidden;padding: 0;position: absolute;width: 1px;}#sk-container-id-7 div.sk-estimator {font-family: monospace;background-color: #f0f8ff;border: 1px dotted black;border-radius: 0.25em;box-sizing: border-box;margin-bottom: 0.5em;}#sk-container-id-7 div.sk-estimator:hover {background-color: #d4ebff;}#sk-container-id-7 div.sk-parallel-item::after {content: \"\";width: 100%;border-bottom: 1px solid gray;flex-grow: 1;}#sk-container-id-7 div.sk-label:hover label.sk-toggleable__label {background-color: #d4ebff;}#sk-container-id-7 div.sk-serial::before {content: \"\";position: absolute;border-left: 1px solid gray;box-sizing: border-box;top: 0;bottom: 0;left: 50%;z-index: 0;}#sk-container-id-7 div.sk-serial {display: flex;flex-direction: column;align-items: center;background-color: white;padding-right: 0.2em;padding-left: 0.2em;position: relative;}#sk-container-id-7 div.sk-item {position: relative;z-index: 1;}#sk-container-id-7 div.sk-parallel {display: flex;align-items: stretch;justify-content: center;background-color: white;position: relative;}#sk-container-id-7 div.sk-item::before, #sk-container-id-7 div.sk-parallel-item::before {content: \"\";position: absolute;border-left: 1px solid gray;box-sizing: border-box;top: 0;bottom: 0;left: 50%;z-index: -1;}#sk-container-id-7 div.sk-parallel-item {display: flex;flex-direction: column;z-index: 1;position: relative;background-color: white;}#sk-container-id-7 div.sk-parallel-item:first-child::after {align-self: flex-end;width: 50%;}#sk-container-id-7 div.sk-parallel-item:last-child::after {align-self: flex-start;width: 50%;}#sk-container-id-7 div.sk-parallel-item:only-child::after {width: 0;}#sk-container-id-7 div.sk-dashed-wrapped {border: 1px dashed gray;margin: 0 0.4em 0.5em 0.4em;box-sizing: border-box;padding-bottom: 0.4em;background-color: white;}#sk-container-id-7 div.sk-label label {font-family: monospace;font-weight: bold;display: inline-block;line-height: 1.2em;}#sk-container-id-7 div.sk-label-container {text-align: center;}#sk-container-id-7 div.sk-container {/* jupyter's `normalize.less` sets `[hidden] { display: none; }` but bootstrap.min.css set `[hidden] { display: none !important; }` so we also need the `!important` here to be able to override the default hidden behavior on the sphinx rendered scikit-learn.org. See: https://github.com/scikit-learn/scikit-learn/issues/21755 */display: inline-block !important;position: relative;}#sk-container-id-7 div.sk-text-repr-fallback {display: none;}</style><div id=\"sk-container-id-7\" class=\"sk-top-container\"><div class=\"sk-text-repr-fallback\"><pre>MeanShift()</pre><b>In a Jupyter environment, please rerun this cell to show the HTML representation or trust the notebook. <br />On GitHub, the HTML representation is unable to render, please try loading this page with nbviewer.org.</b></div><div class=\"sk-container\" hidden><div class=\"sk-item\"><div class=\"sk-estimator sk-toggleable\"><input class=\"sk-toggleable__control sk-hidden--visually\" id=\"sk-estimator-id-7\" type=\"checkbox\" checked><label for=\"sk-estimator-id-7\" class=\"sk-toggleable__label sk-toggleable__label-arrow\">MeanShift</label><div class=\"sk-toggleable__content\"><pre>MeanShift()</pre></div></div></div></div></div>"
      ],
      "text/plain": [
       "MeanShift()"
      ]
     },
     "execution_count": 119,
     "metadata": {},
     "output_type": "execute_result"
    }
   ],
   "source": [
    "cluster_bw.fit(data)"
   ]
  },
  {
   "cell_type": "code",
   "execution_count": 120,
   "id": "651e2a15-2f3a-43f8-9f8e-6c847b92ccf9",
   "metadata": {},
   "outputs": [
    {
     "data": {
      "text/plain": [
       "array([0, 0, 0, 0, 0, 0, 0, 0, 0, 0, 0, 0, 0, 0, 0, 0, 0, 0, 0, 0, 0, 0,\n",
       "       0, 0, 0, 0, 0, 0, 0, 0, 0, 0, 0, 0, 0, 0, 0, 0, 0, 0, 0, 0, 0, 0,\n",
       "       0, 0, 0, 0, 0, 0, 0, 0, 0, 0, 0, 0, 0, 0, 0, 0, 0, 0, 0, 0, 0, 0,\n",
       "       0, 0, 0, 0, 0, 0, 0, 0, 0, 0, 0, 0, 0, 0, 0, 0, 0, 0, 0, 0, 0, 0,\n",
       "       0, 0, 0, 0, 0, 0, 0, 0, 0, 0, 0, 0, 0, 0, 0, 0, 0, 0, 0, 0, 0, 0,\n",
       "       0, 0, 0, 0, 0, 0, 0, 0, 0, 0, 0, 1, 0, 0, 0, 0, 0, 0, 0, 0, 0, 0,\n",
       "       0, 0, 0, 0, 0, 0, 0, 0, 0, 0, 0, 0, 0, 0, 0, 0, 0, 0, 0, 0, 0, 0,\n",
       "       0, 0, 0, 0, 0, 0, 0, 0, 0, 0, 0, 0, 0, 0, 0, 0, 0, 0, 0, 0, 0, 0,\n",
       "       0, 0])"
      ]
     },
     "execution_count": 120,
     "metadata": {},
     "output_type": "execute_result"
    }
   ],
   "source": [
    "cluster_bw.labels_"
   ]
  },
  {
   "cell_type": "markdown",
   "id": "e2b4f6e5-9db6-4e51-912e-4797dac0d810",
   "metadata": {},
   "source": [
    "# <font color='red'>Checking clusters</font>\n",
    "<hr style='border: 2px solid red;'>"
   ]
  },
  {
   "cell_type": "code",
   "execution_count": 122,
   "id": "d5bad296-efda-45cf-80fa-fdb0b04263d5",
   "metadata": {},
   "outputs": [],
   "source": [
    "  from sklearn.metrics import silhouette_score"
   ]
  },
  {
   "cell_type": "code",
   "execution_count": null,
   "id": "06fd7b4b-ecd4-475b-9a2f-695f8b50cfce",
   "metadata": {},
   "outputs": [],
   "source": [
    "sil_clusters = [i for in rage(2,10)]"
   ]
  }
 ],
 "metadata": {
  "kernelspec": {
   "display_name": "Python 3 (ipykernel)",
   "language": "python",
   "name": "python3"
  },
  "language_info": {
   "codemirror_mode": {
    "name": "ipython",
    "version": 3
   },
   "file_extension": ".py",
   "mimetype": "text/x-python",
   "name": "python",
   "nbconvert_exporter": "python",
   "pygments_lexer": "ipython3",
   "version": "3.9.12"
  }
 },
 "nbformat": 4,
 "nbformat_minor": 5
}
